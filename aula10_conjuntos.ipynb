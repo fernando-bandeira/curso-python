{
 "cells": [
  {
   "cell_type": "markdown",
   "id": "3a22f6f9",
   "metadata": {},
   "source": [
    "## Conjuntos\n",
    "Conjuntos são coleções de dados delimitadas por chaves. Eles podem possuir dados de diversos tipos e, ao contrário de listas e tuplas, só contabilizam elementos duplicados uma vez. Conjuntos também não possuem índices nem ordem definida."
   ]
  },
  {
   "cell_type": "code",
   "execution_count": 1,
   "id": "4184c88f",
   "metadata": {},
   "outputs": [
    {
     "data": {
      "text/plain": [
       "{0, 2, 4, 6, 8}"
      ]
     },
     "execution_count": 1,
     "metadata": {},
     "output_type": "execute_result"
    }
   ],
   "source": [
    "pares = {4, 6, 0, 2, 8, 4, 6, 0}\n",
    "pares"
   ]
  },
  {
   "cell_type": "markdown",
   "id": "75db1de5",
   "metadata": {},
   "source": [
    "### Conversões envolvendo conjuntos"
   ]
  },
  {
   "cell_type": "markdown",
   "id": "6d3c7d9a",
   "metadata": {},
   "source": [
    "A função *set()* converte outros iteráveis em conjuntos:"
   ]
  },
  {
   "cell_type": "code",
   "execution_count": 2,
   "id": "cedd8dfc",
   "metadata": {},
   "outputs": [
    {
     "data": {
      "text/plain": [
       "{(1, 2), 1, 2, 3.5, 4, False, 'a', 'b'}"
      ]
     },
     "execution_count": 2,
     "metadata": {},
     "output_type": "execute_result"
    }
   ],
   "source": [
    "lista = ['b', 1, 2, 3.5, 4, 2.0, 'a', 2, True, False, (1, 2), 0]\n",
    "conjunto = set(lista)\n",
    "conjunto"
   ]
  },
  {
   "cell_type": "code",
   "execution_count": 3,
   "id": "b49f5802",
   "metadata": {},
   "outputs": [
    {
     "data": {
      "text/plain": [
       "{'a', 'd', 'e', 'f', 'n', 'o', 'r'}"
      ]
     },
     "execution_count": 3,
     "metadata": {},
     "output_type": "execute_result"
    }
   ],
   "source": [
    "nome = \"fernando\"\n",
    "conjunto = set(nome)\n",
    "conjunto"
   ]
  },
  {
   "cell_type": "code",
   "execution_count": 4,
   "id": "f9c806d9",
   "metadata": {},
   "outputs": [
    {
     "data": {
      "text/plain": [
       "{1, 2, 3, 5, 7, 11, 13}"
      ]
     },
     "execution_count": 4,
     "metadata": {},
     "output_type": "execute_result"
    }
   ],
   "source": [
    "tupla = (1, 2, 3, 5, 7, 11, 13, 7, 3)\n",
    "conjunto = set(tupla)\n",
    "conjunto"
   ]
  },
  {
   "cell_type": "markdown",
   "id": "4f16d69b",
   "metadata": {},
   "source": [
    "### Adição e remoção de elementos de um conjunto"
   ]
  },
  {
   "cell_type": "markdown",
   "id": "8352c8ad",
   "metadata": {},
   "source": [
    "Para adicionar um elemento em um conjunto, utiliza-se o método *add()*:"
   ]
  },
  {
   "cell_type": "code",
   "execution_count": 5,
   "id": "8bd4c5db",
   "metadata": {},
   "outputs": [
    {
     "data": {
      "text/plain": [
       "{'a', 'x', 'y', 'z'}"
      ]
     },
     "execution_count": 5,
     "metadata": {},
     "output_type": "execute_result"
    }
   ],
   "source": [
    "conj = {'x', 'y', 'z'}\n",
    "conj.add('a')\n",
    "conj"
   ]
  },
  {
   "cell_type": "markdown",
   "id": "d26db075",
   "metadata": {},
   "source": [
    "Para remover um elemento de um conjunto, utiliza-se o método *remove()*:"
   ]
  },
  {
   "cell_type": "code",
   "execution_count": 6,
   "id": "aa025ea9",
   "metadata": {},
   "outputs": [
    {
     "data": {
      "text/plain": [
       "{'a', 'x', 'z'}"
      ]
     },
     "execution_count": 6,
     "metadata": {},
     "output_type": "execute_result"
    }
   ],
   "source": [
    "conj.remove('y')\n",
    "conj"
   ]
  },
  {
   "cell_type": "markdown",
   "id": "32592251",
   "metadata": {},
   "source": [
    "Outra forma de remover um elemento de um conjunto é utilizando o método *discard()*. A diferença é que, utilizando este método, não é gerado um erro caso o elemento a ser removido não conste no conjunto."
   ]
  },
  {
   "cell_type": "code",
   "execution_count": 7,
   "id": "dd5766d3",
   "metadata": {},
   "outputs": [
    {
     "data": {
      "text/plain": [
       "{'a', 'x'}"
      ]
     },
     "execution_count": 7,
     "metadata": {},
     "output_type": "execute_result"
    }
   ],
   "source": [
    "conj.discard('z')\n",
    "conj"
   ]
  },
  {
   "cell_type": "markdown",
   "id": "c3dd510c",
   "metadata": {},
   "source": [
    "O método *clear()* esvazia completamente um conjunto:"
   ]
  },
  {
   "cell_type": "code",
   "execution_count": 8,
   "id": "c347a7b3",
   "metadata": {},
   "outputs": [
    {
     "data": {
      "text/plain": [
       "set()"
      ]
     },
     "execution_count": 8,
     "metadata": {},
     "output_type": "execute_result"
    }
   ],
   "source": [
    "conj.clear()\n",
    "conj"
   ]
  },
  {
   "cell_type": "markdown",
   "id": "cd96a4c8",
   "metadata": {},
   "source": [
    "### Função *sorted()*"
   ]
  },
  {
   "cell_type": "markdown",
   "id": "c7fffa40",
   "metadata": {},
   "source": [
    "A função *sorted()* retorna uma lista ordenada contendo os elementos de um conjunto:"
   ]
  },
  {
   "cell_type": "code",
   "execution_count": 9,
   "id": "6e17921d",
   "metadata": {},
   "outputs": [
    {
     "data": {
      "text/plain": [
       "([0, 4, 5, 7, 10, 29, 39, 53], list)"
      ]
     },
     "execution_count": 9,
     "metadata": {},
     "output_type": "execute_result"
    }
   ],
   "source": [
    "conj = {4, 53, 5, 29, 7, 39, 0, 10}\n",
    "x = sorted(conj)\n",
    "x, type(x)"
   ]
  },
  {
   "cell_type": "markdown",
   "id": "234c1429",
   "metadata": {},
   "source": [
    "### Interseção, união e diferença"
   ]
  },
  {
   "cell_type": "code",
   "execution_count": 10,
   "id": "ed800f7a",
   "metadata": {},
   "outputs": [],
   "source": [
    "impares = {1, 3, 5, 7, 9}\n",
    "pares = {0, 2, 4, 6, 8}\n",
    "primos = {2, 3, 5, 7}"
   ]
  },
  {
   "cell_type": "markdown",
   "id": "9d29c580",
   "metadata": {},
   "source": [
    "A interseção entre dois conjuntos é retornada pelo método *intersection()*:"
   ]
  },
  {
   "cell_type": "code",
   "execution_count": 11,
   "id": "9aaee591",
   "metadata": {},
   "outputs": [
    {
     "data": {
      "text/plain": [
       "{3, 5, 7}"
      ]
     },
     "execution_count": 11,
     "metadata": {},
     "output_type": "execute_result"
    }
   ],
   "source": [
    "impares.intersection(primos)"
   ]
  },
  {
   "cell_type": "markdown",
   "id": "ef617c70",
   "metadata": {},
   "source": [
    "A união entre dois conjuntos é retornada pelo método *union()*:"
   ]
  },
  {
   "cell_type": "code",
   "execution_count": 12,
   "id": "306f35c8",
   "metadata": {},
   "outputs": [
    {
     "data": {
      "text/plain": [
       "{0, 2, 3, 4, 5, 6, 7, 8}"
      ]
     },
     "execution_count": 12,
     "metadata": {},
     "output_type": "execute_result"
    }
   ],
   "source": [
    "pares.union(primos)"
   ]
  },
  {
   "cell_type": "markdown",
   "id": "e84098d9",
   "metadata": {},
   "source": [
    "A diferença entre dois conjuntos é retornada pelo método *difference()*:"
   ]
  },
  {
   "cell_type": "code",
   "execution_count": 13,
   "id": "22bd495b",
   "metadata": {},
   "outputs": [
    {
     "data": {
      "text/plain": [
       "{1, 9}"
      ]
     },
     "execution_count": 13,
     "metadata": {},
     "output_type": "execute_result"
    }
   ],
   "source": [
    "impares.difference(primos)"
   ]
  },
  {
   "cell_type": "markdown",
   "id": "61ed1ffc",
   "metadata": {},
   "source": [
    "### Comprimento, somatório e valores máximo e mínimo de um conjunto"
   ]
  },
  {
   "cell_type": "markdown",
   "id": "35bfc1cf",
   "metadata": {},
   "source": [
    "As funções *len()*, *sum()*, *max()*, *min()* funcionam com conjuntos da mesma forma que nas coleções estudadas anteriormente:"
   ]
  },
  {
   "cell_type": "code",
   "execution_count": 14,
   "id": "2558429e",
   "metadata": {},
   "outputs": [
    {
     "data": {
      "text/plain": [
       "3"
      ]
     },
     "execution_count": 14,
     "metadata": {},
     "output_type": "execute_result"
    }
   ],
   "source": [
    "conj = {4, 3, 5}\n",
    "len(conj)"
   ]
  },
  {
   "cell_type": "code",
   "execution_count": 15,
   "id": "5f3a43de",
   "metadata": {},
   "outputs": [
    {
     "data": {
      "text/plain": [
       "12"
      ]
     },
     "execution_count": 15,
     "metadata": {},
     "output_type": "execute_result"
    }
   ],
   "source": [
    "sum(conj)"
   ]
  },
  {
   "cell_type": "code",
   "execution_count": 16,
   "id": "7e999377",
   "metadata": {},
   "outputs": [
    {
     "data": {
      "text/plain": [
       "5"
      ]
     },
     "execution_count": 16,
     "metadata": {},
     "output_type": "execute_result"
    }
   ],
   "source": [
    "max(conj)"
   ]
  },
  {
   "cell_type": "code",
   "execution_count": 17,
   "id": "e114babc",
   "metadata": {},
   "outputs": [
    {
     "data": {
      "text/plain": [
       "3"
      ]
     },
     "execution_count": 17,
     "metadata": {},
     "output_type": "execute_result"
    }
   ],
   "source": [
    "min(conj)"
   ]
  },
  {
   "cell_type": "markdown",
   "id": "a19ea183",
   "metadata": {},
   "source": [
    "### Compreensão de conjuntos\n",
    "Similar ao que ocorre em listas e dicionários, é uma forma de gerar conjuntos a partir de iterações dinâmicas:"
   ]
  },
  {
   "cell_type": "code",
   "execution_count": 18,
   "id": "0152f68c",
   "metadata": {},
   "outputs": [
    {
     "data": {
      "text/plain": [
       "{0, 1, 2, 3, 4, 5, 6, 7, 8, 9}"
      ]
     },
     "execution_count": 18,
     "metadata": {},
     "output_type": "execute_result"
    }
   ],
   "source": [
    "conjunto = {numero for numero in range(10)}\n",
    "conjunto"
   ]
  },
  {
   "cell_type": "code",
   "execution_count": 19,
   "id": "3359e33a",
   "metadata": {},
   "outputs": [
    {
     "data": {
      "text/plain": [
       "{0, 2, 4, 6, 8, 10, 12, 14, 16, 18}"
      ]
     },
     "execution_count": 19,
     "metadata": {},
     "output_type": "execute_result"
    }
   ],
   "source": [
    "dobros = {numero * 2 for numero in conjunto}\n",
    "dobros"
   ]
  },
  {
   "cell_type": "code",
   "execution_count": 20,
   "id": "0553afbb",
   "metadata": {},
   "outputs": [
    {
     "data": {
      "text/plain": [
       "{'A', 'E', 'I', 'O', 'U'}"
      ]
     },
     "execution_count": 20,
     "metadata": {},
     "output_type": "execute_result"
    }
   ],
   "source": [
    "vogais = 'aeiou'\n",
    "conjunto = {vogal.upper() for vogal in vogais}\n",
    "conjunto"
   ]
  },
  {
   "cell_type": "code",
   "execution_count": 21,
   "id": "73dba91f",
   "metadata": {},
   "outputs": [
    {
     "data": {
      "text/plain": [
       "{1, 4, 9}"
      ]
     },
     "execution_count": 21,
     "metadata": {},
     "output_type": "execute_result"
    }
   ],
   "source": [
    "numeros = [1, 2, 3]\n",
    "quadrados = {numero ** 2 for numero in numeros}\n",
    "quadrados"
   ]
  },
  {
   "cell_type": "code",
   "execution_count": 22,
   "id": "6055d59a",
   "metadata": {},
   "outputs": [
    {
     "data": {
      "text/plain": [
       "({'A', 'B', 'C', 'D', 'E'}, {3, 6, 9, 12, 15})"
      ]
     },
     "execution_count": 22,
     "metadata": {},
     "output_type": "execute_result"
    }
   ],
   "source": [
    "dic = {'a': 1, 'b': 2, 'c': 3, 'd': 4, 'e': 5}\n",
    "letras = {chave.upper() for chave in dic.keys()}\n",
    "triplos = {valor * 3 for valor in dic.values()}\n",
    "letras, triplos"
   ]
  },
  {
   "cell_type": "code",
   "execution_count": 23,
   "id": "8f93eb68",
   "metadata": {},
   "outputs": [
    {
     "data": {
      "text/plain": [
       "{0, 2, 4, 6, 8}"
      ]
     },
     "execution_count": 23,
     "metadata": {},
     "output_type": "execute_result"
    }
   ],
   "source": [
    "numeros = (0, 1, 2, 3, 4, 5, 6, 7, 8, 9)\n",
    "pares = {n for n in numeros if n % 2 == 0}\n",
    "pares"
   ]
  },
  {
   "cell_type": "markdown",
   "id": "8616f6bb",
   "metadata": {},
   "source": [
    "### Cópia de conjuntos"
   ]
  },
  {
   "cell_type": "markdown",
   "id": "7c6a7040",
   "metadata": {},
   "source": [
    "Após se copiar um conjunto via atribuição (cópia rasa), qualquer ação sobre a cópia afeta o conjunto original:"
   ]
  },
  {
   "cell_type": "code",
   "execution_count": 24,
   "id": "4658f483",
   "metadata": {},
   "outputs": [
    {
     "data": {
      "text/plain": [
       "({1, 2, 3, '4'}, {1, 2, 3, '4'})"
      ]
     },
     "execution_count": 24,
     "metadata": {},
     "output_type": "execute_result"
    }
   ],
   "source": [
    "conjunto = {1, 2, 3}\n",
    "copia = conjunto\n",
    "copia.add('4')\n",
    "conjunto, copia"
   ]
  },
  {
   "cell_type": "markdown",
   "id": "cc00a86a",
   "metadata": {},
   "source": [
    "Para se ter dois conjuntos independentes (cópia profunda), utiliza-se o método *copy()*:"
   ]
  },
  {
   "cell_type": "code",
   "execution_count": 25,
   "id": "3f7fa861",
   "metadata": {},
   "outputs": [
    {
     "data": {
      "text/plain": [
       "({1, 2, 3}, {1, 2, 3, '4'})"
      ]
     },
     "execution_count": 25,
     "metadata": {},
     "output_type": "execute_result"
    }
   ],
   "source": [
    "conjunto = {1, 2, 3}\n",
    "copia = conjunto.copy()\n",
    "copia.add('4')\n",
    "conjunto, copia"
   ]
  }
 ],
 "metadata": {
  "kernelspec": {
   "display_name": "Python 3 (ipykernel)",
   "language": "python",
   "name": "python3"
  },
  "language_info": {
   "codemirror_mode": {
    "name": "ipython",
    "version": 3
   },
   "file_extension": ".py",
   "mimetype": "text/x-python",
   "name": "python",
   "nbconvert_exporter": "python",
   "pygments_lexer": "ipython3",
   "version": "3.8.10"
  }
 },
 "nbformat": 4,
 "nbformat_minor": 5
}
