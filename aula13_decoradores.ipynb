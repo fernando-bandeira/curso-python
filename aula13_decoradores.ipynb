{
 "cells": [
  {
   "cell_type": "markdown",
   "id": "b6ba8209",
   "metadata": {},
   "source": [
    "## Decoradores\n",
    "Decoradores são um recurso da linguagem que permite que o comportamento de uma função seja alterado sem necessariamente modificar a função em si."
   ]
  },
  {
   "cell_type": "markdown",
   "id": "213b6cf3",
   "metadata": {},
   "source": [
    "### Tipo *function*\n",
    "Note que funções são um tipo de dado:"
   ]
  },
  {
   "cell_type": "code",
   "execution_count": 1,
   "id": "f3b55e0e",
   "metadata": {},
   "outputs": [
    {
     "data": {
      "text/plain": [
       "function"
      ]
     },
     "execution_count": 1,
     "metadata": {},
     "output_type": "execute_result"
    }
   ],
   "source": [
    "def triplo(x):\n",
    "    return 3 * x\n",
    "\n",
    "type(triplo)"
   ]
  },
  {
   "cell_type": "markdown",
   "id": "a4db3c1a",
   "metadata": {},
   "source": [
    "É possível, atribuir uma função a uma variável:"
   ]
  },
  {
   "cell_type": "code",
   "execution_count": 2,
   "id": "ad3e4aa6",
   "metadata": {},
   "outputs": [
    {
     "data": {
      "text/plain": [
       "12"
      ]
     },
     "execution_count": 2,
     "metadata": {},
     "output_type": "execute_result"
    }
   ],
   "source": [
    "f = triplo\n",
    "f(4)"
   ]
  },
  {
   "cell_type": "markdown",
   "id": "4f8a846b",
   "metadata": {},
   "source": [
    "Ou ainda, enviar uma função como argumento de outra função:"
   ]
  },
  {
   "cell_type": "code",
   "execution_count": 3,
   "id": "620be949",
   "metadata": {},
   "outputs": [
    {
     "data": {
      "text/plain": [
       "6"
      ]
     },
     "execution_count": 3,
     "metadata": {},
     "output_type": "execute_result"
    }
   ],
   "source": [
    "def exemplo(x, func):\n",
    "    return func(x)\n",
    "    \n",
    "exemplo(2, triplo)"
   ]
  },
  {
   "cell_type": "markdown",
   "id": "b8d57616",
   "metadata": {},
   "source": [
    "### Funções aninhadas\n",
    "É possível declarar funções dentro do escopo de outras funções"
   ]
  },
  {
   "cell_type": "code",
   "execution_count": 4,
   "id": "e49b5f30",
   "metadata": {},
   "outputs": [],
   "source": [
    "def bhaskara(a, b, c):\n",
    "\n",
    "    def quadrado(x):\n",
    "        return x ** 2\n",
    "\n",
    "    def raiz(x):\n",
    "        return x ** 0.5\n",
    "\n",
    "    delta = quadrado(b) - 4 * a * c\n",
    "    x1 = (-b + raiz(delta)) / (2 * a)\n",
    "    x2 = (-b - raiz(delta)) / (2 * a)\n",
    "    return x1, x2"
   ]
  },
  {
   "cell_type": "markdown",
   "id": "363c82d3",
   "metadata": {},
   "source": [
    "Outra possibilidade é a função interna ser o retorno da função externa:"
   ]
  },
  {
   "cell_type": "code",
   "execution_count": 5,
   "id": "6b4540ad",
   "metadata": {},
   "outputs": [
    {
     "data": {
      "text/plain": [
       "'Fernando'"
      ]
     },
     "execution_count": 5,
     "metadata": {},
     "output_type": "execute_result"
    }
   ],
   "source": [
    "def externa():\n",
    "\n",
    "    def interna(nome):\n",
    "        return nome.lower().title()\n",
    "\n",
    "    return interna\n",
    "\n",
    "externa()('FERNANDO')"
   ]
  },
  {
   "cell_type": "markdown",
   "id": "8ebf6235",
   "metadata": {},
   "source": [
    "### Utilizando decoradores"
   ]
  },
  {
   "cell_type": "markdown",
   "id": "0baa2e23",
   "metadata": {},
   "source": [
    "Será construída a seguir uma função capaz de calcular o tempo de duração da execução de outras funções:"
   ]
  },
  {
   "cell_type": "code",
   "execution_count": 6,
   "id": "cc64591f",
   "metadata": {},
   "outputs": [],
   "source": [
    "from time import time"
   ]
  },
  {
   "cell_type": "code",
   "execution_count": 7,
   "id": "26fe652c",
   "metadata": {},
   "outputs": [],
   "source": [
    "def calcula_tempo(func):\n",
    "\n",
    "    def interna(*args):\n",
    "        inicio = time()\n",
    "        x = func(*args)\n",
    "        return x, time() - inicio\n",
    "\n",
    "    return interna"
   ]
  },
  {
   "cell_type": "markdown",
   "id": "2eea87fe",
   "metadata": {},
   "source": [
    "Considere agora uma função capaz de identificar se um número é primo ou não:"
   ]
  },
  {
   "cell_type": "code",
   "execution_count": 8,
   "id": "fc7e7cee",
   "metadata": {},
   "outputs": [],
   "source": [
    "def primo(x):\n",
    "    if x in (0, 1):\n",
    "        return False\n",
    "    for i in range(2, x // 2 + 1):\n",
    "        if x % i == 0:\n",
    "            return False\n",
    "    return True"
   ]
  },
  {
   "cell_type": "markdown",
   "id": "1787cb1c",
   "metadata": {},
   "source": [
    "Para calcular o tempo de duração da execução dessa função devemos enviá-la como argumento da função *calcula_tempo()*:"
   ]
  },
  {
   "cell_type": "code",
   "execution_count": 9,
   "id": "d830bea8",
   "metadata": {},
   "outputs": [
    {
     "data": {
      "text/plain": [
       "(True, 2.4563207626342773)"
      ]
     },
     "execution_count": 9,
     "metadata": {},
     "output_type": "execute_result"
    }
   ],
   "source": [
    "aux = calcula_tempo(primo)  # 'aux' equivale à função 'interna'\n",
    "aux(95638219)"
   ]
  },
  {
   "cell_type": "code",
   "execution_count": 10,
   "id": "86ec1035",
   "metadata": {},
   "outputs": [
    {
     "data": {
      "text/plain": [
       "(True, 0.04738783836364746)"
      ]
     },
     "execution_count": 10,
     "metadata": {},
     "output_type": "execute_result"
    }
   ],
   "source": [
    "calcula_tempo(primo)(1722181)"
   ]
  },
  {
   "cell_type": "markdown",
   "id": "f4c4645d",
   "metadata": {},
   "source": [
    "Caso seja conveniente, é possível utilizar uma notação que permite que a função *calcula_tempo()* seja sempre convocada quando a função *primo()* também for:"
   ]
  },
  {
   "cell_type": "code",
   "execution_count": 11,
   "id": "2d439c4e",
   "metadata": {},
   "outputs": [],
   "source": [
    "@calcula_tempo\n",
    "def primo(x):\n",
    "    if x in (0, 1):\n",
    "        return False\n",
    "    for i in range(2, x // 2 + 1):\n",
    "        if x % i == 0:\n",
    "            return False\n",
    "    return True"
   ]
  },
  {
   "cell_type": "markdown",
   "id": "4875c81c",
   "metadata": {},
   "source": [
    "A partir de agora, *primo(x)* será equivalente a *calcula_tempo(primo)(x)*:"
   ]
  },
  {
   "cell_type": "code",
   "execution_count": 12,
   "id": "d1b722a6",
   "metadata": {},
   "outputs": [
    {
     "data": {
      "text/plain": [
       "(True, 1.049041748046875e-05)"
      ]
     },
     "execution_count": 12,
     "metadata": {},
     "output_type": "execute_result"
    }
   ],
   "source": [
    "primo(5)"
   ]
  },
  {
   "cell_type": "markdown",
   "id": "8ce53764",
   "metadata": {},
   "source": [
    "### Outros exemplos"
   ]
  },
  {
   "cell_type": "markdown",
   "id": "36025bf6",
   "metadata": {},
   "source": [
    "Uma função decoradora pode receber argumentos além de uma função. Para isso, podem ser criadas mais funções internas.  \n",
    "O exemplo a seguir irá construir uma função decoradora capaz de tentar transformar os argumentos de outra função em argumento de um tipo válido, caso não sejam:"
   ]
  },
  {
   "cell_type": "markdown",
   "id": "25e288e3",
   "metadata": {},
   "source": [
    "#### Função *zip()*\n",
    "Essa função gera um iterável contendo tuplas com elementos de mesma posição de outros iteráveis, como mostrado abaixo:"
   ]
  },
  {
   "cell_type": "code",
   "execution_count": 13,
   "id": "ab80820a",
   "metadata": {},
   "outputs": [
    {
     "name": "stdout",
     "output_type": "stream",
     "text": [
      "('a', 1)\n",
      "('b', 3)\n",
      "('c', 5)\n",
      "('d', 7)\n",
      "('e', 9)\n"
     ]
    }
   ],
   "source": [
    "letras = 'abcde'\n",
    "numeros = range(1, 15, 2)  # elementos em excesso serão ignorados\n",
    "\n",
    "for tupla in zip(letras, numeros):\n",
    "    print(tupla)"
   ]
  },
  {
   "cell_type": "code",
   "execution_count": 14,
   "id": "393248ab",
   "metadata": {},
   "outputs": [],
   "source": [
    "def forca_tipos(*tipos):\n",
    "\n",
    "    def interna(func):\n",
    "\n",
    "        def mais_interna(*args):\n",
    "            novos_args = []\n",
    "            for valor, tipo in zip(args, tipos):\n",
    "                novos_args.append(tipo(valor))\n",
    "            return func(*novos_args)\n",
    "\n",
    "        return mais_interna\n",
    "\n",
    "    return interna"
   ]
  },
  {
   "cell_type": "code",
   "execution_count": 15,
   "id": "5014cdf5",
   "metadata": {},
   "outputs": [],
   "source": [
    "@forca_tipos(int)\n",
    "def fatorial(x):\n",
    "    if x == 0:\n",
    "        return 1\n",
    "    return x * fatorial(x - 1)"
   ]
  },
  {
   "cell_type": "code",
   "execution_count": 16,
   "id": "c4009218",
   "metadata": {},
   "outputs": [
    {
     "data": {
      "text/plain": [
       "120"
      ]
     },
     "execution_count": 16,
     "metadata": {},
     "output_type": "execute_result"
    }
   ],
   "source": [
    "fatorial('5')"
   ]
  },
  {
   "cell_type": "code",
   "execution_count": 17,
   "id": "4592a6bc",
   "metadata": {},
   "outputs": [
    {
     "data": {
      "text/plain": [
       "120"
      ]
     },
     "execution_count": 17,
     "metadata": {},
     "output_type": "execute_result"
    }
   ],
   "source": [
    "fatorial(5.6)"
   ]
  }
 ],
 "metadata": {
  "kernelspec": {
   "display_name": "Python 3 (ipykernel)",
   "language": "python",
   "name": "python3"
  },
  "language_info": {
   "codemirror_mode": {
    "name": "ipython",
    "version": 3
   },
   "file_extension": ".py",
   "mimetype": "text/x-python",
   "name": "python",
   "nbconvert_exporter": "python",
   "pygments_lexer": "ipython3",
   "version": "3.8.10"
  }
 },
 "nbformat": 4,
 "nbformat_minor": 5
}
