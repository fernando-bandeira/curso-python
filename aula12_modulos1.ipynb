{
 "cells": [
  {
   "cell_type": "markdown",
   "id": "1b780bd3",
   "metadata": {},
   "source": [
    "## Módulos\n",
    "Módulos são arquivos escritos em linguagem *Python* que possuem funcionalidades implementadas, que podem ser importados e utilizados sem que essas funcionalidades tenham que ser desenvolvidas por você."
   ]
  },
  {
   "cell_type": "markdown",
   "id": "a18a528c",
   "metadata": {},
   "source": [
    "### Principais módulos nativos"
   ]
  },
  {
   "cell_type": "markdown",
   "id": "efd7c87c",
   "metadata": {},
   "source": [
    "#### Módulo *random*\n",
    "Principais métodos:\n",
    "- *random()*: retorna um número real aleatório entre 0 e 1;\n",
    "- *uniform()*: retorna um número real aleatório entre os argumentos informados;\n",
    "- *randint()*: retorna um número inteiro aleatório entre os argumentos informados;\n",
    "- *choice()*: retorna um elemento aleatório de um iterável;\n",
    "- *shuffle()*: reorganiza os elementos de um iterável de forma aleatória."
   ]
  },
  {
   "cell_type": "markdown",
   "id": "4ff5ccd3",
   "metadata": {},
   "source": [
    "#### Módulo *time*\n",
    "Principais métodos:\n",
    "- *sleep()*: pausa a execução do programa pela quantidade de segundos especificada;\n",
    "- *time()*: retorna a quantidade de segundos passados desde 01/01/1970 às 00:00:00."
   ]
  },
  {
   "cell_type": "markdown",
   "id": "2106f5ce",
   "metadata": {},
   "source": [
    "#### Módulo *math*\n",
    "Principais métodos:\n",
    "- *sqrt()*: retorna a raiz quadrada de um número;\n",
    "- *pow()*: retorna uma potência de um número;\n",
    "- *sin()*: retorna o seno de um número;\n",
    "- *cos()*: retorna o cosseno de um número;\n",
    "- *tan()*: retorna a tangente de um número;\n",
    "- *radians()*: realiza a conversão de graus para radianos;\n",
    "- *degrees()*: realiza a conversão de radianos para graus;\n",
    "- *log()*: retorna o logaritmo de um número;\n",
    "- *factorial()*: retorna o fatorial de um número."
   ]
  },
  {
   "cell_type": "markdown",
   "id": "3c3ee2f4",
   "metadata": {},
   "source": [
    "### Importação de módulos"
   ]
  },
  {
   "cell_type": "markdown",
   "id": "fe5717e3",
   "metadata": {},
   "source": [
    "#### Importação integral do módulo "
   ]
  },
  {
   "cell_type": "code",
   "execution_count": 1,
   "id": "e565df81",
   "metadata": {},
   "outputs": [],
   "source": [
    "import random"
   ]
  },
  {
   "cell_type": "code",
   "execution_count": 2,
   "id": "1ba8e9da",
   "metadata": {},
   "outputs": [
    {
     "data": {
      "text/plain": [
       "0.655021720451267"
      ]
     },
     "execution_count": 2,
     "metadata": {},
     "output_type": "execute_result"
    }
   ],
   "source": [
    "random.random()"
   ]
  },
  {
   "cell_type": "code",
   "execution_count": 3,
   "id": "c0fcbf31",
   "metadata": {},
   "outputs": [
    {
     "data": {
      "text/plain": [
       "2"
      ]
     },
     "execution_count": 3,
     "metadata": {},
     "output_type": "execute_result"
    }
   ],
   "source": [
    "random.randint(0, 10)"
   ]
  },
  {
   "cell_type": "code",
   "execution_count": 4,
   "id": "1b23f468",
   "metadata": {},
   "outputs": [
    {
     "data": {
      "text/plain": [
       "'d'"
      ]
     },
     "execution_count": 4,
     "metadata": {},
     "output_type": "execute_result"
    }
   ],
   "source": [
    "random.choice('fernando')"
   ]
  },
  {
   "cell_type": "markdown",
   "id": "c7a907dc",
   "metadata": {},
   "source": [
    "#### Importação parcial do módulo"
   ]
  },
  {
   "cell_type": "code",
   "execution_count": 5,
   "id": "1bd7adb6",
   "metadata": {},
   "outputs": [],
   "source": [
    "from math import cos, pi"
   ]
  },
  {
   "cell_type": "code",
   "execution_count": 6,
   "id": "0cd916c4",
   "metadata": {},
   "outputs": [
    {
     "data": {
      "text/plain": [
       "1.0"
      ]
     },
     "execution_count": 6,
     "metadata": {},
     "output_type": "execute_result"
    }
   ],
   "source": [
    "cos(2 * pi)"
   ]
  },
  {
   "cell_type": "code",
   "execution_count": 7,
   "id": "dcb47eb6",
   "metadata": {},
   "outputs": [],
   "source": [
    "from time import time"
   ]
  },
  {
   "cell_type": "code",
   "execution_count": 8,
   "id": "6dc0d338",
   "metadata": {},
   "outputs": [
    {
     "data": {
      "text/plain": [
       "0.01312398910522461"
      ]
     },
     "execution_count": 8,
     "metadata": {},
     "output_type": "execute_result"
    }
   ],
   "source": [
    "inicio = time()\n",
    "for _ in range(100000):\n",
    "    pass  # apenas preenche o corpo da função, sem executar nenhuma ação\n",
    "time() - inicio"
   ]
  },
  {
   "cell_type": "markdown",
   "id": "b306d9d0",
   "metadata": {},
   "source": [
    "### *Alias*\n",
    "*Alias* são \"apelidos\" que podem ser dados a módulos e suas funções e constantes, normalmente com o objetivo de encurtar seus nomes."
   ]
  },
  {
   "cell_type": "code",
   "execution_count": 9,
   "id": "3f045b0a",
   "metadata": {},
   "outputs": [],
   "source": [
    "import random as rd"
   ]
  },
  {
   "cell_type": "code",
   "execution_count": 10,
   "id": "405bb376",
   "metadata": {},
   "outputs": [
    {
     "data": {
      "text/plain": [
       "[3, 6, 1, 2, 7, 5, 4]"
      ]
     },
     "execution_count": 10,
     "metadata": {},
     "output_type": "execute_result"
    }
   ],
   "source": [
    "lista = [1, 2, 3, 4, 5, 6, 7]\n",
    "rd.shuffle(lista)\n",
    "lista"
   ]
  },
  {
   "cell_type": "code",
   "execution_count": 11,
   "id": "8706e38b",
   "metadata": {},
   "outputs": [],
   "source": [
    "from math import factorial as fat"
   ]
  },
  {
   "cell_type": "code",
   "execution_count": 12,
   "id": "ea0c6f8c",
   "metadata": {},
   "outputs": [
    {
     "data": {
      "text/plain": [
       "120"
      ]
     },
     "execution_count": 12,
     "metadata": {},
     "output_type": "execute_result"
    }
   ],
   "source": [
    "fat(5)"
   ]
  }
 ],
 "metadata": {
  "kernelspec": {
   "display_name": "Python 3 (ipykernel)",
   "language": "python",
   "name": "python3"
  },
  "language_info": {
   "codemirror_mode": {
    "name": "ipython",
    "version": 3
   },
   "file_extension": ".py",
   "mimetype": "text/x-python",
   "name": "python",
   "nbconvert_exporter": "python",
   "pygments_lexer": "ipython3",
   "version": "3.8.10"
  }
 },
 "nbformat": 4,
 "nbformat_minor": 5
}
