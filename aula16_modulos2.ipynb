{
 "cells": [
  {
   "cell_type": "markdown",
   "id": "35411c0f",
   "metadata": {},
   "source": [
    "## Módulos personalizados\n",
    "Como dito anteriormente, módulos são arquivos escritos em Python. Sendo assim, arquivos criados por você também podem ser utilizados como módulos:"
   ]
  },
  {
   "cell_type": "markdown",
   "id": "9d7b42cb",
   "metadata": {},
   "source": [
    "O código a seguir aplica os conceitos da aula sobre manipulação de arquivos em Python para criar o arquivo **modulo_exemplo.py**, que possuirá uma classe, uma função e uma variável:"
   ]
  },
  {
   "cell_type": "code",
   "execution_count": 1,
   "id": "78bcdf25",
   "metadata": {},
   "outputs": [],
   "source": [
    "conteudo = ('class Produto:' + '\\n'\n",
    "            '    taxa = 1.05' + '\\n'\n",
    "            '    estoque = 0' + '\\n'\n",
    "            '    contador = 0' + '\\n\\n'\n",
    "            '    def __init__(self, nome, valor):' + '\\n'\n",
    "            '        self.nome = nome' + '\\n'\n",
    "            '        self.preco = valor * Produto.taxa' + '\\n'\n",
    "            '        self.id = Produto.contador + 1' + '\\n\\n'\n",
    "            '    @classmethod' + '\\n'\n",
    "            '    def vender(cls):' + '\\n'\n",
    "            '        cls.estoque -= 1' + '\\n\\n'\n",
    "            'def triplo(x):' + '\\n'\n",
    "            '    return 3 * x' + '\\n\\n'\n",
    "            'nome = \"fernando\"' + '\\n')\n",
    "\n",
    "with open('modulo_exemplo.py', 'w') as arq:\n",
    "    arq.write(conteudo)"
   ]
  },
  {
   "cell_type": "markdown",
   "id": "e0ff83e2",
   "metadata": {},
   "source": [
    "Uma vez criado, o arquivo pode ser importado como um módulo, e suas classes, funções e variáveis podem ser utilizadas:"
   ]
  },
  {
   "cell_type": "code",
   "execution_count": 2,
   "id": "a19309f3",
   "metadata": {},
   "outputs": [],
   "source": [
    "import modulo_exemplo as ex"
   ]
  },
  {
   "cell_type": "code",
   "execution_count": 3,
   "id": "fdda2be5",
   "metadata": {},
   "outputs": [
    {
     "data": {
      "text/plain": [
       "4200.0"
      ]
     },
     "execution_count": 3,
     "metadata": {},
     "output_type": "execute_result"
    }
   ],
   "source": [
    "tv = ex.Produto('TV Samsung', 4000)\n",
    "tv.preco"
   ]
  },
  {
   "cell_type": "code",
   "execution_count": 4,
   "id": "64040ebe",
   "metadata": {},
   "outputs": [
    {
     "data": {
      "text/plain": [
       "15"
      ]
     },
     "execution_count": 4,
     "metadata": {},
     "output_type": "execute_result"
    }
   ],
   "source": [
    "ex.triplo(5)"
   ]
  },
  {
   "cell_type": "code",
   "execution_count": 5,
   "id": "d8922c12",
   "metadata": {},
   "outputs": [
    {
     "data": {
      "text/plain": [
       "'fernando'"
      ]
     },
     "execution_count": 5,
     "metadata": {},
     "output_type": "execute_result"
    }
   ],
   "source": [
    "ex.nome"
   ]
  }
 ],
 "metadata": {
  "kernelspec": {
   "display_name": "Python 3 (ipykernel)",
   "language": "python",
   "name": "python3"
  },
  "language_info": {
   "codemirror_mode": {
    "name": "ipython",
    "version": 3
   },
   "file_extension": ".py",
   "mimetype": "text/x-python",
   "name": "python",
   "nbconvert_exporter": "python",
   "pygments_lexer": "ipython3",
   "version": "3.8.10"
  }
 },
 "nbformat": 4,
 "nbformat_minor": 5
}
