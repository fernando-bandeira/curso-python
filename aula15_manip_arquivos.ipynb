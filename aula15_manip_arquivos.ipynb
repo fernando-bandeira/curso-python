{
 "cells": [
  {
   "cell_type": "markdown",
   "id": "21212aba",
   "metadata": {},
   "source": [
    "## Manipulação de arquivos\n",
    "Utilizando a linguagem *Python*, é possível abrir, criar, ler e editar arquivos."
   ]
  },
  {
   "cell_type": "markdown",
   "id": "f49af52e",
   "metadata": {},
   "source": [
    "### Abertura de arquivos\n",
    "Para se abrir um arquivo, utiliza-se a função *open()*, especificando como primeiro argumento o caminho do arquivo a ser aberto, e como segundo parâmetro o modo de abertura. Os diferentes modos de abertura serão detalhados abaixo:"
   ]
  },
  {
   "cell_type": "markdown",
   "id": "dffe11df",
   "metadata": {},
   "source": [
    "- modo **r**: É o modo de abertura padrão (ou seja, não precisa ser especificado) e permite a leitura de arquivos. Caso o arquivo especificado não exista, um erro é gerado;\n",
    "- modo **w**: Permite escrita de arquivos. Caso o arquivo especificado exista, seu conteúdo prévio é integralmente excluído, e caso o arquivo não exista, ele é criado;\n",
    "- modo **a**: Também permite escrita de arquivos, mas a escrita se inicia a partir do final de seu conteúdo, sem exclusão do mesmo. Caso o arquivo especificado não exista, ele é criado;\n",
    "- modo **x**: Modo exclusivamente para criação de arquivos. Caso o arquivo especificado exista, um erro é gerado;\n",
    "- modo **r+**: Permite leitura e escrita de arquivos. A princípio, o cursor se localiza no início do arquivo e, caso existam caracteres após o cursor, serão sobrescritos tantos desses caracteres quantos forem os caracteres do conteúdo a ser escrito. Caso o arquivo especificado não exista, um erro é gerado;\n",
    "- modo **w+**: Similar ao modo **w**, com a diferença de que também permite leitura;\n",
    "- modo **a+**: Similar ao modo **a**, com a diferença de que também permite leitura.\n",
    "\n",
    "OBS.:  \n",
    "Cursor: indicador que aponta a partir de que posição do arquivo será realizada a leitura/escrita do mesmo."
   ]
  },
  {
   "cell_type": "markdown",
   "id": "a9e760dd",
   "metadata": {},
   "source": [
    "### Escrita de arquivos"
   ]
  },
  {
   "cell_type": "code",
   "execution_count": 1,
   "id": "224ef348",
   "metadata": {},
   "outputs": [],
   "source": [
    "arq = open('exemplo.txt', 'w', encoding='utf-8')"
   ]
  },
  {
   "cell_type": "markdown",
   "id": "fa02b2c6",
   "metadata": {},
   "source": [
    "O parâmetro opcional *encoding* na função acima recebe o valor \"utf-8\" para garantir que não ocorrerão problemas relacionados à acentuação."
   ]
  },
  {
   "cell_type": "markdown",
   "id": "7c24ca8d",
   "metadata": {},
   "source": [
    "Para escrever no arquivo, utilizamos o método *write()*. Após a manipulação de um arquivo ser finalizada, ele deve ser fechado com o método *close()*:"
   ]
  },
  {
   "cell_type": "code",
   "execution_count": 2,
   "id": "fe93b3a8",
   "metadata": {},
   "outputs": [],
   "source": [
    "arq.write('Kotlin')\n",
    "arq.close()"
   ]
  },
  {
   "cell_type": "markdown",
   "id": "5c53e521",
   "metadata": {},
   "source": [
    "Após o fechamento de um arquivo, ele só poderá sofrer leitura/escrita se for aberto novamente:"
   ]
  },
  {
   "cell_type": "code",
   "execution_count": 3,
   "id": "f1f638ae",
   "metadata": {},
   "outputs": [],
   "source": [
    "arq = open('exemplo.txt', 'a', encoding='utf-8')\n",
    "arq.write(' é uma linguagem de programação poderosa.')\n",
    "arq.close()"
   ]
  },
  {
   "cell_type": "markdown",
   "id": "ee226393",
   "metadata": {},
   "source": [
    "Em vez de manipular um arquivo seguindo esse procedimento, recomenda-se a utilização da estrutura *with*, que fecha o arquivo automaticamente após sua manipulação ser finalizada:"
   ]
  },
  {
   "cell_type": "code",
   "execution_count": 4,
   "id": "6212d239",
   "metadata": {},
   "outputs": [],
   "source": [
    "with open('exemplo.txt', 'r+', encoding='utf-8') as arq:\n",
    "    arq.write('Python')\n",
    "\n",
    "# o arquivo já foi fechado"
   ]
  },
  {
   "cell_type": "markdown",
   "id": "be35b3fb",
   "metadata": {},
   "source": [
    "### Leitura de arquivos"
   ]
  },
  {
   "cell_type": "markdown",
   "id": "4b3af9e1",
   "metadata": {},
   "source": [
    "O método *read()* realiza a leitura do conteúdo de um arquivo a partir do cursor. Se um número for passado como argumento desse método, essa será a quantidade de caracteres lidos. Caso contrário, todo o conteúdo a partir do cursor será lido.  \n",
    "Como o cursor se encontra no início do arquivo quando ele é aberto utilizando o modo padrão **r**, todo o conteúdo do arquivo pode ser guardado em uma variável:"
   ]
  },
  {
   "cell_type": "code",
   "execution_count": 5,
   "id": "36917d28",
   "metadata": {},
   "outputs": [
    {
     "data": {
      "text/plain": [
       "('Python é uma linguagem de programação poderosa.', '', 'programação')"
      ]
     },
     "execution_count": 5,
     "metadata": {},
     "output_type": "execute_result"
    }
   ],
   "source": [
    "with open('exemplo.txt', encoding='utf-8') as arq:\n",
    "    leitura1 = arq.read()\n",
    "    leitura2 = arq.read()\n",
    "    arq.seek(27)\n",
    "    leitura3 = arq.read(11)\n",
    "\n",
    "leitura1, leitura2, leitura3"
   ]
  },
  {
   "cell_type": "markdown",
   "id": "a299c70d",
   "metadata": {},
   "source": [
    "Note que após a execução do método *read()* o cursor se encontra no final do arquivo, o que explica o porquê de a variável *leitura2* ser uma string vazia.  \n",
    "Para reposicionar o cursor, utiliza-se o método *seek()*."
   ]
  },
  {
   "cell_type": "markdown",
   "id": "fa53ce21",
   "metadata": {},
   "source": [
    "A seguir, o arquivo será sobrescrito pelo seu conteúdo com quebras de linha no lugar de espaços:"
   ]
  },
  {
   "cell_type": "code",
   "execution_count": 6,
   "id": "c787973a",
   "metadata": {},
   "outputs": [],
   "source": [
    "with open('exemplo.txt', 'w', encoding='utf-8') as arq:\n",
    "    arq.write(leitura1.replace(' ', '\\n'))"
   ]
  },
  {
   "cell_type": "markdown",
   "id": "d560752d",
   "metadata": {},
   "source": [
    "O método *readline()* lê uma linha por vez e posiciona o cursor ao final da linha que foi lida:"
   ]
  },
  {
   "cell_type": "code",
   "execution_count": 7,
   "id": "098fb4f8",
   "metadata": {},
   "outputs": [
    {
     "data": {
      "text/plain": [
       "('Python\\n', 'é\\n', 'uma\\n')"
      ]
     },
     "execution_count": 7,
     "metadata": {},
     "output_type": "execute_result"
    }
   ],
   "source": [
    "with open('exemplo.txt', encoding='utf-8') as arq:\n",
    "    linha1 = arq.readline()\n",
    "    linha2 = arq.readline()\n",
    "    linha3 = arq.readline()\n",
    "    \n",
    "linha1, linha2, linha3"
   ]
  },
  {
   "cell_type": "markdown",
   "id": "70325d16",
   "metadata": {},
   "source": [
    "O método *readlines()* retorna uma lista com cada linha do arquivo como elemento:"
   ]
  },
  {
   "cell_type": "code",
   "execution_count": 8,
   "id": "6979c42a",
   "metadata": {},
   "outputs": [
    {
     "data": {
      "text/plain": [
       "['Python\\n',\n",
       " 'é\\n',\n",
       " 'uma\\n',\n",
       " 'linguagem\\n',\n",
       " 'de\\n',\n",
       " 'programação\\n',\n",
       " 'poderosa.']"
      ]
     },
     "execution_count": 8,
     "metadata": {},
     "output_type": "execute_result"
    }
   ],
   "source": [
    "with open('exemplo.txt', encoding='utf-8') as arq:\n",
    "    linhas = arq.readlines()\n",
    "    \n",
    "linhas"
   ]
  }
 ],
 "metadata": {
  "kernelspec": {
   "display_name": "Python 3 (ipykernel)",
   "language": "python",
   "name": "python3"
  },
  "language_info": {
   "codemirror_mode": {
    "name": "ipython",
    "version": 3
   },
   "file_extension": ".py",
   "mimetype": "text/x-python",
   "name": "python",
   "nbconvert_exporter": "python",
   "pygments_lexer": "ipython3",
   "version": "3.8.10"
  }
 },
 "nbformat": 4,
 "nbformat_minor": 5
}
