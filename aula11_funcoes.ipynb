{
 "cells": [
  {
   "cell_type": "markdown",
   "id": "db534dda",
   "metadata": {},
   "source": [
    "## Funções\n",
    "Uma função é um trecho de código que realiza uma tarefa específica, capaz de ser convocado posteriormente para que essa tarefa seja feita sem necessidade de escrever novamente os códigos responsáveis pela sua execução.  \n",
    "Diversas funções já foram utilizadas até aqui, como as funções *print()*, *len()*, *abs()*, *max()*, *type()*, mas agora será ensinado como definir funções personalizadas.  \n",
    "Os nomes de funções devem seguir as mesmas convenções dos nomes de variáveis."
   ]
  },
  {
   "cell_type": "markdown",
   "id": "a72d0a38",
   "metadata": {},
   "source": [
    "### Definição de uma função"
   ]
  },
  {
   "cell_type": "code",
   "execution_count": 1,
   "id": "1690ad02",
   "metadata": {},
   "outputs": [],
   "source": [
    "def cumprimento():\n",
    "    print('Olá, mundo!')"
   ]
  },
  {
   "cell_type": "markdown",
   "id": "2b6e9ea6",
   "metadata": {},
   "source": [
    "### Chamada de uma função"
   ]
  },
  {
   "cell_type": "code",
   "execution_count": 2,
   "id": "55208377",
   "metadata": {},
   "outputs": [
    {
     "name": "stdout",
     "output_type": "stream",
     "text": [
      "Olá, mundo!\n"
     ]
    }
   ],
   "source": [
    "cumprimento()"
   ]
  },
  {
   "cell_type": "markdown",
   "id": "1956ead3",
   "metadata": {},
   "source": [
    "### Parâmetros de entrada\n",
    "Nos parênteses que seguem o nome da função, podem ser definidos parâmetros. Eles são dados recebidos pela função para serem processados pela mesma."
   ]
  },
  {
   "cell_type": "code",
   "execution_count": 3,
   "id": "e29013b6",
   "metadata": {},
   "outputs": [],
   "source": [
    "def quadrado(x):\n",
    "    print(x ** 2)"
   ]
  },
  {
   "cell_type": "code",
   "execution_count": 4,
   "id": "f6f3f91c",
   "metadata": {},
   "outputs": [
    {
     "name": "stdout",
     "output_type": "stream",
     "text": [
      "16\n"
     ]
    }
   ],
   "source": [
    "quadrado(4)"
   ]
  },
  {
   "cell_type": "markdown",
   "id": "ae226781",
   "metadata": {},
   "source": [
    "Funções com múltiplos parâmetros exigem que seus valores (chamados de argumentos) sejam passados na mesma ordem em que foram definidos:"
   ]
  },
  {
   "cell_type": "code",
   "execution_count": 5,
   "id": "76698432",
   "metadata": {},
   "outputs": [],
   "source": [
    "def potencia(x, y):\n",
    "    print(x ** y)"
   ]
  },
  {
   "cell_type": "code",
   "execution_count": 6,
   "id": "cfa9c613",
   "metadata": {},
   "outputs": [
    {
     "name": "stdout",
     "output_type": "stream",
     "text": [
      "64\n"
     ]
    }
   ],
   "source": [
    "potencia(4, 3)"
   ]
  },
  {
   "cell_type": "code",
   "execution_count": 7,
   "id": "4c88ef23",
   "metadata": {},
   "outputs": [
    {
     "name": "stdout",
     "output_type": "stream",
     "text": [
      "81\n"
     ]
    }
   ],
   "source": [
    "potencia(3, 4)"
   ]
  },
  {
   "cell_type": "markdown",
   "id": "00d34caf",
   "metadata": {},
   "source": [
    "Entretanto, ao se realizar atribuição no momento de chamada da função, ordens diferentes são aceitas:"
   ]
  },
  {
   "cell_type": "code",
   "execution_count": 8,
   "id": "06a8103b",
   "metadata": {},
   "outputs": [
    {
     "name": "stdout",
     "output_type": "stream",
     "text": [
      "64\n"
     ]
    }
   ],
   "source": [
    "potencia(y=3, x=4)"
   ]
  },
  {
   "cell_type": "markdown",
   "id": "6e8ad120",
   "metadata": {},
   "source": [
    "Não é permitido a utilização de atribuição de parâmetros seguida por argumentos sem atribuição:"
   ]
  },
  {
   "cell_type": "code",
   "execution_count": 9,
   "id": "3ff6ee03",
   "metadata": {},
   "outputs": [],
   "source": [
    "# potencia(x=4, 3)  # não permitido"
   ]
  },
  {
   "cell_type": "code",
   "execution_count": 10,
   "id": "e7abd43e",
   "metadata": {},
   "outputs": [
    {
     "name": "stdout",
     "output_type": "stream",
     "text": [
      "64\n"
     ]
    }
   ],
   "source": [
    "potencia(4, y=3)  # permitido"
   ]
  },
  {
   "cell_type": "markdown",
   "id": "42d94b27",
   "metadata": {},
   "source": [
    "É possível definir um valor padrão para parâmetros, o que faz com que eles sejam opcionais:"
   ]
  },
  {
   "cell_type": "code",
   "execution_count": 11,
   "id": "a9f8f286",
   "metadata": {},
   "outputs": [],
   "source": [
    "def soma(x, y=0, z=0):\n",
    "    print(x + y + z)"
   ]
  },
  {
   "cell_type": "code",
   "execution_count": 12,
   "id": "d37ae985",
   "metadata": {},
   "outputs": [
    {
     "name": "stdout",
     "output_type": "stream",
     "text": [
      "12\n"
     ]
    }
   ],
   "source": [
    "soma(3, 4, 5)"
   ]
  },
  {
   "cell_type": "code",
   "execution_count": 13,
   "id": "c1fb56bc",
   "metadata": {},
   "outputs": [
    {
     "name": "stdout",
     "output_type": "stream",
     "text": [
      "3\n"
     ]
    }
   ],
   "source": [
    "soma(3)  # 'y' e 'z' valem 0 nesse caso"
   ]
  },
  {
   "cell_type": "markdown",
   "id": "b452d9c5",
   "metadata": {},
   "source": [
    "Não é permitido definir parâmetros opcionais antes de parâmetros obrigatórios:"
   ]
  },
  {
   "cell_type": "code",
   "execution_count": 14,
   "id": "e980a2ce",
   "metadata": {},
   "outputs": [],
   "source": [
    "# def soma(x=0, y):\n",
    "#     print(x + y)"
   ]
  },
  {
   "cell_type": "markdown",
   "id": "381a64fc",
   "metadata": {},
   "source": [
    "O parâmetro *args* precedido pelo caracter \\* na definição da função será uma tupla contendo os argumentos extras que forem enviados para a função:"
   ]
  },
  {
   "cell_type": "code",
   "execution_count": 15,
   "id": "735cf53e",
   "metadata": {},
   "outputs": [],
   "source": [
    "def exemplo(x, y, *args):\n",
    "    print(x, y, args)"
   ]
  },
  {
   "cell_type": "code",
   "execution_count": 16,
   "id": "c058c3af",
   "metadata": {},
   "outputs": [
    {
     "name": "stdout",
     "output_type": "stream",
     "text": [
      "1 2 ('python', 100, True, [1, 2, 3])\n"
     ]
    }
   ],
   "source": [
    "exemplo(1, 2, 'python', 100, True, [1, 2, 3])"
   ]
  },
  {
   "cell_type": "code",
   "execution_count": 17,
   "id": "e48fccde",
   "metadata": {},
   "outputs": [],
   "source": [
    "def soma(*args):\n",
    "    print(sum(args))"
   ]
  },
  {
   "cell_type": "code",
   "execution_count": 18,
   "id": "229cbb0b",
   "metadata": {},
   "outputs": [
    {
     "name": "stdout",
     "output_type": "stream",
     "text": [
      "19\n"
     ]
    }
   ],
   "source": [
    "soma(4, 6, 9)"
   ]
  },
  {
   "cell_type": "code",
   "execution_count": 19,
   "id": "5793073d",
   "metadata": {},
   "outputs": [
    {
     "name": "stdout",
     "output_type": "stream",
     "text": [
      "45\n"
     ]
    }
   ],
   "source": [
    "soma(5, 19, 4, 5, 12)"
   ]
  },
  {
   "cell_type": "markdown",
   "id": "e13134f6",
   "metadata": {},
   "source": [
    "É possível desempacotar uma coleção e enviar seus elementos para uma função como argumentos independentes utilizando o caracter \\*:"
   ]
  },
  {
   "cell_type": "code",
   "execution_count": 20,
   "id": "e8d3247e",
   "metadata": {},
   "outputs": [
    {
     "name": "stdout",
     "output_type": "stream",
     "text": [
      "6\n"
     ]
    }
   ],
   "source": [
    "lista = [1, 2, 3]\n",
    "soma(*lista)  # é o mesmo que soma(1, 2, 3)"
   ]
  },
  {
   "cell_type": "markdown",
   "id": "375061ec",
   "metadata": {},
   "source": [
    "O parâmetro *kwargs* precedido por \\*\\* na definição da função será um dicionário contendo os argumentos extras que forem enviados para a função por atribuição:"
   ]
  },
  {
   "cell_type": "code",
   "execution_count": 21,
   "id": "6eeb83a2",
   "metadata": {},
   "outputs": [],
   "source": [
    "def exibe_dic(**kwargs):\n",
    "    print(kwargs)\n",
    "    for chave, valor in kwargs.items():\n",
    "        print(f'{chave}: {valor}')"
   ]
  },
  {
   "cell_type": "code",
   "execution_count": 22,
   "id": "fa49a73f",
   "metadata": {},
   "outputs": [
    {
     "name": "stdout",
     "output_type": "stream",
     "text": [
      "{'nome': 'Fernando', 'idade': 22, 'altura': 1.8}\n",
      "nome: Fernando\n",
      "idade: 22\n",
      "altura: 1.8\n"
     ]
    }
   ],
   "source": [
    "exibe_dic(nome='Fernando', idade=22, altura=1.8)"
   ]
  },
  {
   "cell_type": "markdown",
   "id": "ec91a420",
   "metadata": {},
   "source": [
    "É possível desempacotar um dicionário e enviar seus elementos para uma função como argumentos independentes utilizando \\*\\*:"
   ]
  },
  {
   "cell_type": "code",
   "execution_count": 23,
   "id": "10750dc6",
   "metadata": {},
   "outputs": [
    {
     "name": "stdout",
     "output_type": "stream",
     "text": [
      "{'modelo': 'Audi R8', 'ano': 2018, 'conversivel': True}\n",
      "modelo: Audi R8\n",
      "ano: 2018\n",
      "conversivel: True\n"
     ]
    }
   ],
   "source": [
    "dados = {'modelo': 'Audi R8', 'ano': 2018, 'conversivel': True}\n",
    "exibe_dic(**dados)"
   ]
  },
  {
   "cell_type": "markdown",
   "id": "4a5766b1",
   "metadata": {},
   "source": [
    "### Funções com retorno"
   ]
  },
  {
   "cell_type": "markdown",
   "id": "2b439b8f",
   "metadata": {},
   "source": [
    "Repare que a função *cubo()* abaixo calcula e exibe o cubo de um número, porém após sua execução esse dado é perdido e não é possível utilizá-lo:"
   ]
  },
  {
   "cell_type": "code",
   "execution_count": 24,
   "id": "c67378dd",
   "metadata": {},
   "outputs": [],
   "source": [
    "def cubo(x):\n",
    "    print(x ** 3)"
   ]
  },
  {
   "cell_type": "code",
   "execution_count": 25,
   "id": "c142c3d6",
   "metadata": {},
   "outputs": [
    {
     "name": "stdout",
     "output_type": "stream",
     "text": [
      "8\n"
     ]
    }
   ],
   "source": [
    "cubo(2)"
   ]
  },
  {
   "cell_type": "markdown",
   "id": "185b5e75",
   "metadata": {},
   "source": [
    "Para solucionar esse problema, pode-se utilizar a palavra reservada *return* para retornar um dado que pode ser recuperado simplesmente convocando a função:"
   ]
  },
  {
   "cell_type": "code",
   "execution_count": 26,
   "id": "4ddebeb0",
   "metadata": {},
   "outputs": [],
   "source": [
    "def cubo(x):\n",
    "    return x ** 3"
   ]
  },
  {
   "cell_type": "markdown",
   "id": "7fcdfa86",
   "metadata": {},
   "source": [
    "Dessa forma, pode-se utilizar o retorno da função em outra operações:"
   ]
  },
  {
   "cell_type": "code",
   "execution_count": 27,
   "id": "9ea01314",
   "metadata": {},
   "outputs": [
    {
     "data": {
      "text/plain": [
       "74"
      ]
     },
     "execution_count": 27,
     "metadata": {},
     "output_type": "execute_result"
    }
   ],
   "source": [
    "cubo(4) + 10"
   ]
  },
  {
   "cell_type": "code",
   "execution_count": 28,
   "id": "610a036c",
   "metadata": {},
   "outputs": [
    {
     "data": {
      "text/plain": [
       "54"
      ]
     },
     "execution_count": 28,
     "metadata": {},
     "output_type": "execute_result"
    }
   ],
   "source": [
    "2 * abs(cubo(-3))"
   ]
  },
  {
   "cell_type": "markdown",
   "id": "e8392074",
   "metadata": {},
   "source": [
    "O uso da palavra *return* interrompe a execução da função:"
   ]
  },
  {
   "cell_type": "code",
   "execution_count": 29,
   "id": "3dd437a7",
   "metadata": {},
   "outputs": [
    {
     "name": "stdout",
     "output_type": "stream",
     "text": [
      "Isto será exibido\n"
     ]
    }
   ],
   "source": [
    "def func():\n",
    "    print('Isto será exibido')\n",
    "    return None\n",
    "    print('Isto não será exibido')\n",
    "\n",
    "func()"
   ]
  },
  {
   "cell_type": "markdown",
   "id": "a8c5fe4d",
   "metadata": {},
   "source": [
    "### Variáveis globais e locais"
   ]
  },
  {
   "cell_type": "markdown",
   "id": "33bc7898",
   "metadata": {},
   "source": [
    "Variáveis declaradas dentro do escopo principal do programa são chamadas de variáveis globais, e podem ser reconhecidas em qualquer trecho do código:"
   ]
  },
  {
   "cell_type": "code",
   "execution_count": 30,
   "id": "adc3b439",
   "metadata": {},
   "outputs": [
    {
     "data": {
      "text/plain": [
       "'Fernando'"
      ]
     },
     "execution_count": 30,
     "metadata": {},
     "output_type": "execute_result"
    }
   ],
   "source": [
    "nome = 'fernando'\n",
    "def mostra_nome():\n",
    "    return nome.capitalize()\n",
    "    \n",
    "mostra_nome()"
   ]
  },
  {
   "cell_type": "markdown",
   "id": "35e05c00",
   "metadata": {},
   "source": [
    "Entretanto, variáveis declaradas dentro do escopo de uma função não são reconhecidas fora dela, sendo chamadas de variáveis locais:"
   ]
  },
  {
   "cell_type": "code",
   "execution_count": 31,
   "id": "fce05378",
   "metadata": {},
   "outputs": [],
   "source": [
    "def func():\n",
    "    sobrenome = 'bandeira'\n",
    "    \n",
    "func()\n",
    "# sobrenome"
   ]
  },
  {
   "cell_type": "markdown",
   "id": "4dc93fa8",
   "metadata": {},
   "source": [
    "Variáveis globais não podem ser alteradas dentro de funções por atribuição. Ao se tentar fazer isso, cria-se uma variável local de mesmo nome que possui preferência sobre a variável global:"
   ]
  },
  {
   "cell_type": "code",
   "execution_count": 32,
   "id": "a1a115b8",
   "metadata": {},
   "outputs": [
    {
     "name": "stdout",
     "output_type": "stream",
     "text": [
      "meu nome é bernardo\n"
     ]
    },
    {
     "data": {
      "text/plain": [
       "'fernando'"
      ]
     },
     "execution_count": 32,
     "metadata": {},
     "output_type": "execute_result"
    }
   ],
   "source": [
    "def func():\n",
    "    nome = 'bernardo'  # dentro dessa função, 'nome' agora é uma variável local\n",
    "    print(f'meu nome é {nome}')\n",
    "\n",
    "func()\n",
    "nome  # o valor da variável global 'nome' permanece inalterado"
   ]
  },
  {
   "cell_type": "markdown",
   "id": "54382962",
   "metadata": {},
   "source": [
    "Para modificar o valor de uma variável global dentro de uma função, basta escrever o nome da variável após a palavra reservada *global*:"
   ]
  },
  {
   "cell_type": "code",
   "execution_count": 33,
   "id": "364bd0c7",
   "metadata": {},
   "outputs": [
    {
     "data": {
      "text/plain": [
       "'bernardo'"
      ]
     },
     "execution_count": 33,
     "metadata": {},
     "output_type": "execute_result"
    }
   ],
   "source": [
    "def altera_nome():\n",
    "    global nome\n",
    "    nome = 'bernardo'\n",
    "\n",
    "altera_nome()\n",
    "nome    "
   ]
  },
  {
   "cell_type": "markdown",
   "id": "817618f2",
   "metadata": {},
   "source": [
    "Dessa forma, além de poder modificar variáveis globais já existentes, é possível criar outras, que poderão ser reconhecidas em todo o código:"
   ]
  },
  {
   "cell_type": "code",
   "execution_count": 34,
   "id": "4223a155",
   "metadata": {},
   "outputs": [
    {
     "data": {
      "text/plain": [
       "22"
      ]
     },
     "execution_count": 34,
     "metadata": {},
     "output_type": "execute_result"
    }
   ],
   "source": [
    "def define_idade():\n",
    "    global idade\n",
    "    idade = 22\n",
    "    \n",
    "define_idade()\n",
    "idade"
   ]
  },
  {
   "cell_type": "markdown",
   "id": "b2b0d2d3",
   "metadata": {},
   "source": [
    "Caso se deseje alterar variáveis por meio de métodos ou outras formas que não sejam atribuição direta, não é necessário o uso da palavra reservada *global*:"
   ]
  },
  {
   "cell_type": "code",
   "execution_count": 35,
   "id": "8e993594",
   "metadata": {},
   "outputs": [
    {
     "data": {
      "text/plain": [
       "([1, 2, 3], {1: 1, 2: 4, 3: 9, 4: 16}, {1, 2, 3, 4})"
      ]
     },
     "execution_count": 35,
     "metadata": {},
     "output_type": "execute_result"
    }
   ],
   "source": [
    "lista = [1, 2, 4]\n",
    "dic = {1: 1, 2: 4, 3: 9}\n",
    "conj = {1, 2, 3}\n",
    "\n",
    "def altera_colec():\n",
    "    lista[2] = 3\n",
    "    dic[4] = 16\n",
    "    conj.add(4)\n",
    "    \n",
    "altera_colec()\n",
    "lista, dic, conj"
   ]
  },
  {
   "cell_type": "markdown",
   "id": "bd122589",
   "metadata": {},
   "source": [
    "### *Docstrings*\n",
    "Uma *docstring* é uma string delimitada por triplas aspas presente na linha abaixo à linha da definição de uma função, tendo o propósito de descrever o funcionamento da mesma."
   ]
  },
  {
   "cell_type": "code",
   "execution_count": 36,
   "id": "2a4cc5f6",
   "metadata": {},
   "outputs": [
    {
     "data": {
      "text/plain": [
       "720"
      ]
     },
     "execution_count": 36,
     "metadata": {},
     "output_type": "execute_result"
    }
   ],
   "source": [
    "def fatorial(x):\n",
    "    \"\"\"Essa função retorna o fatorial de um número inteiro\"\"\"\n",
    "    result = 1\n",
    "    for n in range(2, x + 1):\n",
    "        result *= n\n",
    "    return result\n",
    "\n",
    "fatorial(6)"
   ]
  },
  {
   "cell_type": "markdown",
   "id": "9329bf70",
   "metadata": {},
   "source": [
    "Caso existam dúvidas em relação à utilização de uma função, é possível ler sua *docstring*, caso exista, por meio do atributo *\\_\\_doc\\_\\_*:"
   ]
  },
  {
   "cell_type": "code",
   "execution_count": 37,
   "id": "09329b35",
   "metadata": {},
   "outputs": [
    {
     "data": {
      "text/plain": [
       "'Essa função retorna o fatorial de um número inteiro'"
      ]
     },
     "execution_count": 37,
     "metadata": {},
     "output_type": "execute_result"
    }
   ],
   "source": [
    "fatorial.__doc__"
   ]
  },
  {
   "cell_type": "code",
   "execution_count": 38,
   "id": "f1dd553a",
   "metadata": {},
   "outputs": [
    {
     "name": "stdout",
     "output_type": "stream",
     "text": [
      "Return the sum of a 'start' value (default: 0) plus an iterable of numbers\n",
      "\n",
      "When the iterable is empty, return the start value.\n",
      "This function is intended specifically for use with numeric values and may\n",
      "reject non-numeric types.\n"
     ]
    }
   ],
   "source": [
    "print(sum.__doc__)"
   ]
  },
  {
   "cell_type": "markdown",
   "id": "e194dad2",
   "metadata": {},
   "source": [
    "### Recursividade\n",
    "É o ato de convocar uma função dentro de si mesma, o que pode gerar soluções muito eficientes para alguns problemas."
   ]
  },
  {
   "cell_type": "code",
   "execution_count": 39,
   "id": "3b2844cc",
   "metadata": {},
   "outputs": [
    {
     "data": {
      "text/plain": [
       "720"
      ]
     },
     "execution_count": 39,
     "metadata": {},
     "output_type": "execute_result"
    }
   ],
   "source": [
    "def fatorial(x):\n",
    "    \"\"\"Essa função retorna o fatorial de um número inteiro\"\"\"\n",
    "    if x == 0:\n",
    "        return 1\n",
    "    return x * fatorial(x - 1)\n",
    "\n",
    "fatorial(6)"
   ]
  }
 ],
 "metadata": {
  "kernelspec": {
   "display_name": "Python 3 (ipykernel)",
   "language": "python",
   "name": "python3"
  },
  "language_info": {
   "codemirror_mode": {
    "name": "ipython",
    "version": 3
   },
   "file_extension": ".py",
   "mimetype": "text/x-python",
   "name": "python",
   "nbconvert_exporter": "python",
   "pygments_lexer": "ipython3",
   "version": "3.8.10"
  }
 },
 "nbformat": 4,
 "nbformat_minor": 5
}
