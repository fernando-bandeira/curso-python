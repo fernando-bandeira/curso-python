{
 "cells": [
  {
   "cell_type": "markdown",
   "metadata": {},
   "source": [
    "## Estruturas condicionais\n",
    "Essas estruturas permitem que um bloco de código seja executado apenas caso uma determinada condição seja satisfeita."
   ]
  },
  {
   "cell_type": "code",
   "execution_count": 1,
   "metadata": {},
   "outputs": [
    {
     "name": "stdout",
     "output_type": "stream",
     "text": [
      "8\n"
     ]
    }
   ],
   "source": [
    "x = 5\n",
    "y = 3\n",
    "\n",
    "if x > y:\n",
    "    print(x + y)  # será executado apenas caso x > y\n",
    "elif x < y:\n",
    "    print(x - y)  # será executado apenas caso x < y\n",
    "else:\n",
    "    print(x)  # será executado apenas caso x == y"
   ]
  },
  {
   "cell_type": "markdown",
   "metadata": {},
   "source": [
    "A seguinte expressão possui uma condição que define qual valor será retornado:"
   ]
  },
  {
   "cell_type": "code",
   "execution_count": 2,
   "metadata": {},
   "outputs": [
    {
     "data": {
      "text/plain": [
       "'negativo'"
      ]
     },
     "execution_count": 2,
     "metadata": {},
     "output_type": "execute_result"
    }
   ],
   "source": [
    "x = -2\n",
    "'negativo' if x < 0 else 'positivo'"
   ]
  },
  {
   "cell_type": "code",
   "execution_count": 3,
   "metadata": {},
   "outputs": [
    {
     "data": {
      "text/plain": [
       "'Você é maior de idade'"
      ]
     },
     "execution_count": 3,
     "metadata": {},
     "output_type": "execute_result"
    }
   ],
   "source": [
    "idade = 19\n",
    "situacao = 'maior' if idade >= 18 else 'menor'\n",
    "f'Você é {situacao} de idade'"
   ]
  },
  {
   "cell_type": "markdown",
   "metadata": {},
   "source": [
    "O operador *in* é útil para verificar se um elemento pertence a um objeto iterável (será estudado na próxima aula), como strings e coleções:"
   ]
  },
  {
   "cell_type": "code",
   "execution_count": 4,
   "metadata": {},
   "outputs": [
    {
     "name": "stdout",
     "output_type": "stream",
     "text": [
      "é vogal\n"
     ]
    }
   ],
   "source": [
    "vogais = 'AEIOU'\n",
    "letra = 'E'\n",
    "\n",
    "if letra in vogais:\n",
    "    print('é vogal')\n",
    "else:\n",
    "    print('não é vogal')"
   ]
  },
  {
   "cell_type": "markdown",
   "metadata": {},
   "source": [
    "Mais um exemplo:"
   ]
  },
  {
   "cell_type": "code",
   "execution_count": 5,
   "metadata": {},
   "outputs": [
    {
     "name": "stdout",
     "output_type": "stream",
     "text": [
      "você pode optar por votar ou não\n"
     ]
    }
   ],
   "source": [
    "idade = 17\n",
    "\n",
    "if idade >= 18 and idade < 70:\n",
    "    print('você é obrigado a votar')\n",
    "elif idade >= 16:\n",
    "    print('você pode optar por votar ou não')\n",
    "else:\n",
    "    print('você não possui idade suficiente para votar')"
   ]
  }
 ],
 "metadata": {
  "interpreter": {
   "hash": "5910a79f63e6ce5d21d79b1edfc1e18faab9167a470f19efea2c7485d780ab29"
  },
  "kernelspec": {
   "display_name": "Python 3 (ipykernel)",
   "language": "python",
   "name": "python3"
  },
  "language_info": {
   "codemirror_mode": {
    "name": "ipython",
    "version": 3
   },
   "file_extension": ".py",
   "mimetype": "text/x-python",
   "name": "python",
   "nbconvert_exporter": "python",
   "pygments_lexer": "ipython3",
   "version": "3.8.10"
  }
 },
 "nbformat": 4,
 "nbformat_minor": 2
}
