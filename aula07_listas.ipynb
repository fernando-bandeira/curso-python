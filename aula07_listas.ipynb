{
 "cells": [
  {
   "cell_type": "markdown",
   "id": "6157b5ec",
   "metadata": {},
   "source": [
    "## Listas\n",
    "São coleções de dados separados por vírgulas, dentro de colchetes. Seu dados podem ser de diversos tipos, incluindo outras listas."
   ]
  },
  {
   "cell_type": "code",
   "execution_count": 1,
   "id": "eef925c0",
   "metadata": {},
   "outputs": [],
   "source": [
    "lista = [1, 2, 3]\n",
    "vogais = ['A', 'E', 'I', 'O', 'U']\n",
    "vazia = []\n",
    "matriz = [[1, 2, 3], [4, 5, 6], [7, 8, 9]]  # lista aninhada"
   ]
  },
  {
   "cell_type": "markdown",
   "id": "2c972f63",
   "metadata": {},
   "source": [
    "### Conversões envolvendo listas"
   ]
  },
  {
   "cell_type": "markdown",
   "id": "afafd92f",
   "metadata": {},
   "source": [
    "A função *list()* converte outros iteráveis como strings e a função *range()* em listas:"
   ]
  },
  {
   "cell_type": "code",
   "execution_count": 2,
   "id": "384a0d9f",
   "metadata": {},
   "outputs": [
    {
     "data": {
      "text/plain": [
       "['A', 'E', 'I', 'O', 'U']"
      ]
     },
     "execution_count": 2,
     "metadata": {},
     "output_type": "execute_result"
    }
   ],
   "source": [
    "vogais = list('AEIOU')\n",
    "vogais"
   ]
  },
  {
   "cell_type": "code",
   "execution_count": 3,
   "id": "36c2cebc",
   "metadata": {},
   "outputs": [
    {
     "data": {
      "text/plain": [
       "[1, 3, 5, 7, 9]"
      ]
     },
     "execution_count": 3,
     "metadata": {},
     "output_type": "execute_result"
    }
   ],
   "source": [
    "impares = list(range(1, 10, 2))\n",
    "impares"
   ]
  },
  {
   "cell_type": "markdown",
   "id": "80a17711",
   "metadata": {},
   "source": [
    " O método *split()* transforma uma string em uma lista, utilizando algum caracter como separador. Se nenhum separador for especificado, será usado o caracter de espaço para isso:"
   ]
  },
  {
   "cell_type": "code",
   "execution_count": 4,
   "id": "ec3d9ead",
   "metadata": {},
   "outputs": [
    {
     "data": {
      "text/plain": [
       "['fernando', 'bandeira']"
      ]
     },
     "execution_count": 4,
     "metadata": {},
     "output_type": "execute_result"
    }
   ],
   "source": [
    "nome = 'fernando bandeira'\n",
    "lista1 = nome.split()  # o separador padrão é \" \" (espaço)\n",
    "lista1"
   ]
  },
  {
   "cell_type": "code",
   "execution_count": 5,
   "id": "08c25c10",
   "metadata": {},
   "outputs": [
    {
     "data": {
      "text/plain": [
       "['fer', 'a', 'do ba', 'deira']"
      ]
     },
     "execution_count": 5,
     "metadata": {},
     "output_type": "execute_result"
    }
   ],
   "source": [
    "lista2 = nome.split('n')  # o separador é, nesse caso, \"n\"\n",
    "lista2"
   ]
  },
  {
   "cell_type": "markdown",
   "id": "8f32bc47",
   "metadata": {},
   "source": [
    "Já o método *join()* faz o processo inverso, transformando uma lista em uma string, utilizando um caracter como conector:"
   ]
  },
  {
   "cell_type": "code",
   "execution_count": 6,
   "id": "366fd345",
   "metadata": {},
   "outputs": [
    {
     "data": {
      "text/plain": [
       "'meu nome é fernando'"
      ]
     },
     "execution_count": 6,
     "metadata": {},
     "output_type": "execute_result"
    }
   ],
   "source": [
    "lista3 = ['meu', 'nome', 'é', 'fernando']\n",
    "frase = ' '.join(lista3)  # \" \" como conector para unir palavras\n",
    "frase"
   ]
  },
  {
   "cell_type": "markdown",
   "id": "0c5b99a3",
   "metadata": {},
   "source": [
    "### Acesso e atualização de elementos de uma lista"
   ]
  },
  {
   "cell_type": "markdown",
   "id": "0cae024e",
   "metadata": {},
   "source": [
    "Para acessar elementos de uma lista, o processo é idêntico ao realizado em strings, utilizando índices que se iniciam por 0 (zero):"
   ]
  },
  {
   "cell_type": "code",
   "execution_count": 7,
   "id": "8329869a",
   "metadata": {},
   "outputs": [
    {
     "data": {
      "text/plain": [
       "7"
      ]
     },
     "execution_count": 7,
     "metadata": {},
     "output_type": "execute_result"
    }
   ],
   "source": [
    "primos = [2, 3, 5, 7, 11, 13, 17, 19, 23]\n",
    "primos[3]  # elemento de índice 3"
   ]
  },
  {
   "cell_type": "code",
   "execution_count": 8,
   "id": "ecb6a5c2",
   "metadata": {},
   "outputs": [
    {
     "data": {
      "text/plain": [
       "19"
      ]
     },
     "execution_count": 8,
     "metadata": {},
     "output_type": "execute_result"
    }
   ],
   "source": [
    "primos[-2]"
   ]
  },
  {
   "cell_type": "markdown",
   "id": "ab2b46ad",
   "metadata": {},
   "source": [
    "O fatiamento (*slicing*) também acontece da mesma forma:"
   ]
  },
  {
   "cell_type": "code",
   "execution_count": 9,
   "id": "df79d499",
   "metadata": {},
   "outputs": [
    {
     "data": {
      "text/plain": [
       "[5, 7, 11]"
      ]
     },
     "execution_count": 9,
     "metadata": {},
     "output_type": "execute_result"
    }
   ],
   "source": [
    "primos[2:5]"
   ]
  },
  {
   "cell_type": "code",
   "execution_count": 10,
   "id": "48a8761c",
   "metadata": {},
   "outputs": [
    {
     "data": {
      "text/plain": [
       "[2, 3, 5, 7]"
      ]
     },
     "execution_count": 10,
     "metadata": {},
     "output_type": "execute_result"
    }
   ],
   "source": [
    "primos[:4]"
   ]
  },
  {
   "cell_type": "code",
   "execution_count": 11,
   "id": "12845e68",
   "metadata": {},
   "outputs": [
    {
     "data": {
      "text/plain": [
       "[13, 17, 19, 23]"
      ]
     },
     "execution_count": 11,
     "metadata": {},
     "output_type": "execute_result"
    }
   ],
   "source": [
    "primos[5:]"
   ]
  },
  {
   "cell_type": "code",
   "execution_count": 12,
   "id": "0c8d6b05",
   "metadata": {},
   "outputs": [
    {
     "data": {
      "text/plain": [
       "[5, 11, 17]"
      ]
     },
     "execution_count": 12,
     "metadata": {},
     "output_type": "execute_result"
    }
   ],
   "source": [
    "primos[2:7:2]"
   ]
  },
  {
   "cell_type": "code",
   "execution_count": 13,
   "id": "babed7ea",
   "metadata": {},
   "outputs": [
    {
     "data": {
      "text/plain": [
       "[19, 17, 13, 11]"
      ]
     },
     "execution_count": 13,
     "metadata": {},
     "output_type": "execute_result"
    }
   ],
   "source": [
    "primos[7:3:-1]"
   ]
  },
  {
   "cell_type": "markdown",
   "id": "84571f06",
   "metadata": {},
   "source": [
    "Entretanto, diferentemente das strings, as listas são **mutáveis** e por isso seus elementos podem ser alterados diretamente via atribuição a partir do índice:"
   ]
  },
  {
   "cell_type": "code",
   "execution_count": 14,
   "id": "70c32e89",
   "metadata": {},
   "outputs": [
    {
     "data": {
      "text/plain": [
       "[1, 3, 5, 7, 9]"
      ]
     },
     "execution_count": 14,
     "metadata": {},
     "output_type": "execute_result"
    }
   ],
   "source": [
    "primos = [1, 3, 4, 7, 9]\n",
    "primos[2] = 5\n",
    "primos"
   ]
  },
  {
   "cell_type": "markdown",
   "id": "142bd4f6",
   "metadata": {},
   "source": [
    "### Condicionais e repetição"
   ]
  },
  {
   "cell_type": "markdown",
   "id": "dbefc795",
   "metadata": {},
   "source": [
    "Verificando se um elemento existe em uma lista:"
   ]
  },
  {
   "cell_type": "code",
   "execution_count": 15,
   "id": "b1b13f95",
   "metadata": {},
   "outputs": [
    {
     "data": {
      "text/plain": [
       "True"
      ]
     },
     "execution_count": 15,
     "metadata": {},
     "output_type": "execute_result"
    }
   ],
   "source": [
    "vogais = ['A', 'E', 'I', 'O', 'U']\n",
    "letra = 'a'\n",
    "\n",
    "if letra.upper() in vogais:\n",
    "    result = True\n",
    "else:\n",
    "    result = False\n",
    "result"
   ]
  },
  {
   "cell_type": "markdown",
   "id": "43c4fd48",
   "metadata": {},
   "source": [
    "Iterando sobre uma lista:"
   ]
  },
  {
   "cell_type": "code",
   "execution_count": 16,
   "id": "a94d96de",
   "metadata": {},
   "outputs": [
    {
     "name": "stdout",
     "output_type": "stream",
     "text": [
      "Bom dia, tudo bem? "
     ]
    }
   ],
   "source": [
    "palavras = ['Bom', 'dia,', 'tudo', 'bem?']\n",
    "\n",
    "for p in palavras:\n",
    "    print(p, end=' ')"
   ]
  },
  {
   "cell_type": "markdown",
   "id": "de8f29c2",
   "metadata": {},
   "source": [
    "### Adição de elementos em uma lista"
   ]
  },
  {
   "cell_type": "markdown",
   "id": "52823dee",
   "metadata": {},
   "source": [
    "O método *append()* adiciona um elemento ao final de uma lista:"
   ]
  },
  {
   "cell_type": "code",
   "execution_count": 17,
   "id": "a5fa369d",
   "metadata": {},
   "outputs": [
    {
     "data": {
      "text/plain": [
       "['A', 'E', 'I', 'O', 'U']"
      ]
     },
     "execution_count": 17,
     "metadata": {},
     "output_type": "execute_result"
    }
   ],
   "source": [
    "vogais = ['A', 'E', 'I', 'O']\n",
    "vogais.append('U')\n",
    "vogais"
   ]
  },
  {
   "cell_type": "markdown",
   "id": "d3f5d584",
   "metadata": {},
   "source": [
    "O método *extend()* adiciona os elementos de um iterável ao final de uma lista:"
   ]
  },
  {
   "cell_type": "code",
   "execution_count": 18,
   "id": "ef38c967",
   "metadata": {},
   "outputs": [
    {
     "data": {
      "text/plain": [
       "[1, 2, 3, 4, 5, 6]"
      ]
     },
     "execution_count": 18,
     "metadata": {},
     "output_type": "execute_result"
    }
   ],
   "source": [
    "lista1 = [1, 2, 3]\n",
    "lista2 = [4, 5, 6]\n",
    "lista1.extend(lista2)\n",
    "lista1"
   ]
  },
  {
   "cell_type": "code",
   "execution_count": 19,
   "id": "a7f49083",
   "metadata": {},
   "outputs": [
    {
     "data": {
      "text/plain": [
       "[1, 2, 3, 4, 5, 6, 7, 8, 9]"
      ]
     },
     "execution_count": 19,
     "metadata": {},
     "output_type": "execute_result"
    }
   ],
   "source": [
    "lista1.extend(range(7, 10))\n",
    "lista1"
   ]
  },
  {
   "cell_type": "code",
   "execution_count": 20,
   "id": "13c31c75",
   "metadata": {},
   "outputs": [
    {
     "data": {
      "text/plain": [
       "['T', 'i', 'm', ' ', 'M', 'a', 'i', 'a']"
      ]
     },
     "execution_count": 20,
     "metadata": {},
     "output_type": "execute_result"
    }
   ],
   "source": [
    "nome = list('Tim')\n",
    "nome.extend(' Maia')\n",
    "nome"
   ]
  },
  {
   "cell_type": "markdown",
   "id": "56774da6",
   "metadata": {},
   "source": [
    "O método *insert()* adiciona um elemento em um índice determinado, deslocando elementos dessa posição e posições posteriores para a direita."
   ]
  },
  {
   "cell_type": "code",
   "execution_count": 21,
   "id": "41ca3905",
   "metadata": {},
   "outputs": [
    {
     "data": {
      "text/plain": [
       "['a', 'e', 'i', 'o', 'u']"
      ]
     },
     "execution_count": 21,
     "metadata": {},
     "output_type": "execute_result"
    }
   ],
   "source": [
    "vogais = ['a', 'e', 'o', 'u']\n",
    "vogais.insert(2, 'i')\n",
    "vogais"
   ]
  },
  {
   "cell_type": "markdown",
   "id": "31b4cf53",
   "metadata": {},
   "source": [
    "Também é possível utilizar o operador de soma para combinar listas:"
   ]
  },
  {
   "cell_type": "code",
   "execution_count": 22,
   "id": "92ff2f76",
   "metadata": {},
   "outputs": [
    {
     "data": {
      "text/plain": [
       "[1, 2, 3, 4, 5, 6]"
      ]
     },
     "execution_count": 22,
     "metadata": {},
     "output_type": "execute_result"
    }
   ],
   "source": [
    "lista1 = [1, 2, 3]\n",
    "lista2 = [4, 5, 6]\n",
    "lista3 = lista1 + lista2\n",
    "lista3"
   ]
  },
  {
   "cell_type": "markdown",
   "id": "7a732582",
   "metadata": {},
   "source": [
    "Ao realizar esse procedimento sobrescrevendo uma das listas, tem-se um efeito similar ao do método *extend()*:"
   ]
  },
  {
   "cell_type": "code",
   "execution_count": 23,
   "id": "046bba58",
   "metadata": {},
   "outputs": [
    {
     "data": {
      "text/plain": [
       "[1, 2, 3, 4, 5, 6]"
      ]
     },
     "execution_count": 23,
     "metadata": {},
     "output_type": "execute_result"
    }
   ],
   "source": [
    "lista1 += lista2\n",
    "lista1"
   ]
  },
  {
   "cell_type": "markdown",
   "id": "2a40649d",
   "metadata": {},
   "source": [
    "Também pode se utilizar o operador de multiplicação para repetir elementos:"
   ]
  },
  {
   "cell_type": "code",
   "execution_count": 24,
   "id": "8d338822",
   "metadata": {},
   "outputs": [
    {
     "data": {
      "text/plain": [
       "[1, 2, 1, 2, 1, 2]"
      ]
     },
     "execution_count": 24,
     "metadata": {},
     "output_type": "execute_result"
    }
   ],
   "source": [
    "lista1 = [1, 2]\n",
    "lista2 = lista1 * 3\n",
    "lista2"
   ]
  },
  {
   "cell_type": "markdown",
   "id": "73b32fb6",
   "metadata": {},
   "source": [
    "### Exclusão de elementos de uma lista"
   ]
  },
  {
   "cell_type": "markdown",
   "id": "5d003933",
   "metadata": {},
   "source": [
    "O método *pop()* exclui um elemento a partir de seu índice, além de retornar esse elemento. Caso nenhum índice seja especificado, o último elemento da lista é excluído."
   ]
  },
  {
   "cell_type": "code",
   "execution_count": 25,
   "id": "c8d91759",
   "metadata": {},
   "outputs": [
    {
     "data": {
      "text/plain": [
       "['a', 'b', 'c', 'd', 'e', 'f', 'g', 'h']"
      ]
     },
     "execution_count": 25,
     "metadata": {},
     "output_type": "execute_result"
    }
   ],
   "source": [
    "lista = ['a', 'b', 'c', 'd', 'e', 'f', 'g', 'h', 'i']\n",
    "lista.pop()\n",
    "lista"
   ]
  },
  {
   "cell_type": "code",
   "execution_count": 26,
   "id": "92ee6b83",
   "metadata": {},
   "outputs": [
    {
     "data": {
      "text/plain": [
       "['a', 'b', 'c', 'd', 'e', 'g', 'h']"
      ]
     },
     "execution_count": 26,
     "metadata": {},
     "output_type": "execute_result"
    }
   ],
   "source": [
    "lista.pop(5)\n",
    "lista"
   ]
  },
  {
   "cell_type": "markdown",
   "id": "f5b8cf2b",
   "metadata": {},
   "source": [
    "A palavra reservada *del* também pode ser utilizada para excluir um elemento:"
   ]
  },
  {
   "cell_type": "code",
   "execution_count": 27,
   "id": "041b4cad",
   "metadata": {},
   "outputs": [
    {
     "data": {
      "text/plain": [
       "['a', 'b', 'c', 'e', 'g', 'h']"
      ]
     },
     "execution_count": 27,
     "metadata": {},
     "output_type": "execute_result"
    }
   ],
   "source": [
    "del lista[3]\n",
    "lista"
   ]
  },
  {
   "cell_type": "markdown",
   "id": "cf3a26e9",
   "metadata": {},
   "source": [
    "O método *remove()* exclui a primeira ocorrência de um elemento a partir de seu valor:"
   ]
  },
  {
   "cell_type": "code",
   "execution_count": 28,
   "id": "6ab33c98",
   "metadata": {},
   "outputs": [
    {
     "data": {
      "text/plain": [
       "['a', 'b', 'c', 'e', 'h']"
      ]
     },
     "execution_count": 28,
     "metadata": {},
     "output_type": "execute_result"
    }
   ],
   "source": [
    "lista.remove('g')\n",
    "lista"
   ]
  },
  {
   "cell_type": "markdown",
   "id": "85d0a096",
   "metadata": {},
   "source": [
    "O método *clear()* remove todos os elementos de uma lista:"
   ]
  },
  {
   "cell_type": "code",
   "execution_count": 29,
   "id": "bb8782a7",
   "metadata": {},
   "outputs": [
    {
     "data": {
      "text/plain": [
       "[]"
      ]
     },
     "execution_count": 29,
     "metadata": {},
     "output_type": "execute_result"
    }
   ],
   "source": [
    "lista.clear()\n",
    "lista"
   ]
  },
  {
   "cell_type": "markdown",
   "id": "01ae0d1b",
   "metadata": {},
   "source": [
    "### Contagem de elementos"
   ]
  },
  {
   "cell_type": "markdown",
   "id": "682456f2",
   "metadata": {},
   "source": [
    "O método *count()* retorna o número de ocorrências de um elemento em uma lista:"
   ]
  },
  {
   "cell_type": "code",
   "execution_count": 30,
   "id": "55f8c75c",
   "metadata": {},
   "outputs": [
    {
     "data": {
      "text/plain": [
       "2"
      ]
     },
     "execution_count": 30,
     "metadata": {},
     "output_type": "execute_result"
    }
   ],
   "source": [
    "nome = list('fernando')\n",
    "nome.count('n')"
   ]
  },
  {
   "cell_type": "markdown",
   "id": "6873713e",
   "metadata": {},
   "source": [
    "### Obter índice de um elemento"
   ]
  },
  {
   "cell_type": "markdown",
   "id": "de5395b3",
   "metadata": {},
   "source": [
    "O método *index()* retorna o índice da primera ocorrência de um elemento em uma lista:"
   ]
  },
  {
   "cell_type": "code",
   "execution_count": 31,
   "id": "bb9e8e25",
   "metadata": {},
   "outputs": [
    {
     "data": {
      "text/plain": [
       "1"
      ]
     },
     "execution_count": 31,
     "metadata": {},
     "output_type": "execute_result"
    }
   ],
   "source": [
    "sobrenome = list('bandeira')\n",
    "sobrenome.index('a')"
   ]
  },
  {
   "cell_type": "markdown",
   "id": "5109686c",
   "metadata": {},
   "source": [
    "O segundo parâmetro desse método indica a partir de qual índice se deseja realizar a busca:"
   ]
  },
  {
   "cell_type": "code",
   "execution_count": 32,
   "id": "93be5193",
   "metadata": {},
   "outputs": [
    {
     "data": {
      "text/plain": [
       "7"
      ]
     },
     "execution_count": 32,
     "metadata": {},
     "output_type": "execute_result"
    }
   ],
   "source": [
    "sobrenome.index('a', 2)"
   ]
  },
  {
   "cell_type": "markdown",
   "id": "67721f39",
   "metadata": {},
   "source": [
    "### Ordenação de uma lista"
   ]
  },
  {
   "cell_type": "markdown",
   "id": "e8119f26",
   "metadata": {},
   "source": [
    "O método *sort()* ordena uma lista:"
   ]
  },
  {
   "cell_type": "code",
   "execution_count": 33,
   "id": "904ed7aa",
   "metadata": {},
   "outputs": [
    {
     "data": {
      "text/plain": [
       "[0, 1, 3, 5, 8, 9, 10, 20, 26]"
      ]
     },
     "execution_count": 33,
     "metadata": {},
     "output_type": "execute_result"
    }
   ],
   "source": [
    "numeros = [3, 8, 9, 26, 5, 0, 1, 20, 10]\n",
    "numeros.sort()\n",
    "numeros"
   ]
  },
  {
   "cell_type": "markdown",
   "id": "58421ac9",
   "metadata": {},
   "source": [
    "O parâmetro opcional 'reverse' indica se a ordem deve ser decrescente ou não:"
   ]
  },
  {
   "cell_type": "code",
   "execution_count": 34,
   "id": "dc2fb5bb",
   "metadata": {},
   "outputs": [
    {
     "data": {
      "text/plain": [
       "[26, 20, 10, 9, 8, 5, 3, 1, 0]"
      ]
     },
     "execution_count": 34,
     "metadata": {},
     "output_type": "execute_result"
    }
   ],
   "source": [
    "numeros.sort(reverse=True)\n",
    "numeros"
   ]
  },
  {
   "cell_type": "markdown",
   "id": "afd6adef",
   "metadata": {},
   "source": [
    "Listas de strings também podem ser ordenadas, de acordo com a ordem de caracteres na tabela ASCII:"
   ]
  },
  {
   "cell_type": "code",
   "execution_count": 35,
   "id": "43103810",
   "metadata": {},
   "outputs": [
    {
     "data": {
      "text/plain": [
       "['a', 'a', 'a', 'e', 'e', 'i', 'i', 'n', 'n', 'r', 'r', 's', 't', 'v']"
      ]
     },
     "execution_count": 35,
     "metadata": {},
     "output_type": "execute_result"
    }
   ],
   "source": [
    "lista = list('aniversariante')\n",
    "lista.sort()\n",
    "lista"
   ]
  },
  {
   "cell_type": "code",
   "execution_count": 36,
   "id": "cfa6dda6",
   "metadata": {},
   "outputs": [
    {
     "data": {
      "text/plain": [
       "['ana', 'andré', 'luiza', 'renata']"
      ]
     },
     "execution_count": 36,
     "metadata": {},
     "output_type": "execute_result"
    }
   ],
   "source": [
    "nomes = ['andré', 'renata', 'luiza', 'ana']\n",
    "nomes.sort()\n",
    "nomes"
   ]
  },
  {
   "cell_type": "markdown",
   "id": "3d9906f2",
   "metadata": {},
   "source": [
    "A função *sorted()* possui funcionamento similar ao método *sort()*, com a diferença de que não altera a lista original:"
   ]
  },
  {
   "cell_type": "code",
   "execution_count": 37,
   "id": "ba9cf1f2",
   "metadata": {},
   "outputs": [
    {
     "data": {
      "text/plain": [
       "[5, 4, 3, 2, 1]"
      ]
     },
     "execution_count": 37,
     "metadata": {},
     "output_type": "execute_result"
    }
   ],
   "source": [
    "numeros = [3, 5, 1, 4, 2]\n",
    "sorted(numeros, reverse=True)"
   ]
  },
  {
   "cell_type": "markdown",
   "id": "e40baf28",
   "metadata": {},
   "source": [
    "O método *sort()* e a função *sorted()* possuem um parâmetro opcional chamado 'key' que pode receber uma função, a qual irá atuar sobre cada elemento da lista. O retorno dessa função para cada elemento é que será comparado para realizar a ordenação:"
   ]
  },
  {
   "cell_type": "code",
   "execution_count": 38,
   "id": "3f4580d7",
   "metadata": {},
   "outputs": [
    {
     "data": {
      "text/plain": [
       "['z', 'pi', 'céu', 'alvo', 'ditado', 'brócolis']"
      ]
     },
     "execution_count": 38,
     "metadata": {},
     "output_type": "execute_result"
    }
   ],
   "source": [
    "lista = ['ditado', 'pi', 'brócolis', 'alvo', 'z', 'céu']\n",
    "lista.sort(key=len)  # quantidade de caracteres é utilizada para comparação\n",
    "lista"
   ]
  },
  {
   "cell_type": "markdown",
   "id": "a0592324",
   "metadata": {},
   "source": [
    "Só é possível ordenar listas que possuam elementos que podem ser comparados entre si:"
   ]
  },
  {
   "cell_type": "code",
   "execution_count": 39,
   "id": "3ae1e36e",
   "metadata": {},
   "outputs": [],
   "source": [
    "lista1 = [2, 5, 6.5, True, 5.0, False]  # pode ser ordenada\n",
    "lista2 = ['python', 'javascript', 'django']  # pode ser ordenada\n",
    "lista3 = ['fernando', 45]  # não pode ser ordenada"
   ]
  },
  {
   "cell_type": "markdown",
   "id": "19427488",
   "metadata": {},
   "source": [
    "### Inversão de listas"
   ]
  },
  {
   "cell_type": "markdown",
   "id": "120e4d45",
   "metadata": {},
   "source": [
    "O método *reverse()* inverte uma lista:"
   ]
  },
  {
   "cell_type": "code",
   "execution_count": 40,
   "id": "816a7e86",
   "metadata": {},
   "outputs": [
    {
     "data": {
      "text/plain": [
       "[4, 1, 2, 3]"
      ]
     },
     "execution_count": 40,
     "metadata": {},
     "output_type": "execute_result"
    }
   ],
   "source": [
    "numeros = [3, 2, 1, 4]\n",
    "numeros.reverse()\n",
    "numeros"
   ]
  },
  {
   "cell_type": "markdown",
   "id": "16902968",
   "metadata": {},
   "source": [
    "Também é possível utilizar fatiamento de listas para inversão:"
   ]
  },
  {
   "cell_type": "code",
   "execution_count": 41,
   "id": "8ff58fab",
   "metadata": {},
   "outputs": [
    {
     "data": {
      "text/plain": [
       "[3, 2, 1, 4]"
      ]
     },
     "execution_count": 41,
     "metadata": {},
     "output_type": "execute_result"
    }
   ],
   "source": [
    "numeros[::-1]"
   ]
  },
  {
   "cell_type": "markdown",
   "id": "00893092",
   "metadata": {},
   "source": [
    "Note que os métodos relacionados à adição, exclusão, ordenação e reversão de listas alteram diretamente a lista que convocar esses métodos, já que as listas são mutáveis."
   ]
  },
  {
   "cell_type": "markdown",
   "id": "34c1086f",
   "metadata": {},
   "source": [
    "### Comprimento, somatório e valores máximo e mínimo de uma lista"
   ]
  },
  {
   "cell_type": "markdown",
   "id": "439ab95f",
   "metadata": {},
   "source": [
    "A função *len()* retorna o comprimento de uma lista:"
   ]
  },
  {
   "cell_type": "code",
   "execution_count": 42,
   "id": "5e8698da",
   "metadata": {},
   "outputs": [
    {
     "data": {
      "text/plain": [
       "4"
      ]
     },
     "execution_count": 42,
     "metadata": {},
     "output_type": "execute_result"
    }
   ],
   "source": [
    "lista = [6, 7, 8, 9]\n",
    "len(lista)"
   ]
  },
  {
   "cell_type": "markdown",
   "id": "68b24543",
   "metadata": {},
   "source": [
    "A função *sum()* retorna o somatório dos elementos de uma lista, caso eles sejam numéricos:"
   ]
  },
  {
   "cell_type": "code",
   "execution_count": 43,
   "id": "0ae667d1",
   "metadata": {},
   "outputs": [
    {
     "data": {
      "text/plain": [
       "30"
      ]
     },
     "execution_count": 43,
     "metadata": {},
     "output_type": "execute_result"
    }
   ],
   "source": [
    "sum(lista)"
   ]
  },
  {
   "cell_type": "markdown",
   "id": "d3068e7e",
   "metadata": {},
   "source": [
    "A função *max()* retorna o elemento de maior valor de uma lista:"
   ]
  },
  {
   "cell_type": "code",
   "execution_count": 44,
   "id": "2c413fb7",
   "metadata": {},
   "outputs": [
    {
     "data": {
      "text/plain": [
       "9"
      ]
     },
     "execution_count": 44,
     "metadata": {},
     "output_type": "execute_result"
    }
   ],
   "source": [
    "max(lista)"
   ]
  },
  {
   "cell_type": "markdown",
   "id": "11b77ee1",
   "metadata": {},
   "source": [
    "A função *min()* retorna o elemento de maior valor de uma lista:"
   ]
  },
  {
   "cell_type": "code",
   "execution_count": 45,
   "id": "53dbf093",
   "metadata": {},
   "outputs": [
    {
     "data": {
      "text/plain": [
       "6"
      ]
     },
     "execution_count": 45,
     "metadata": {},
     "output_type": "execute_result"
    }
   ],
   "source": [
    "min(lista)"
   ]
  },
  {
   "cell_type": "markdown",
   "id": "def97095",
   "metadata": {},
   "source": [
    "As funções *max()* e *min()* seguem a mesma regra de comparação válida para a ordenação de listas:"
   ]
  },
  {
   "cell_type": "code",
   "execution_count": 46,
   "id": "ef7ef74d",
   "metadata": {},
   "outputs": [
    {
     "data": {
      "text/plain": [
       "'moto'"
      ]
     },
     "execution_count": 46,
     "metadata": {},
     "output_type": "execute_result"
    }
   ],
   "source": [
    "veiculos = ['moto', 'barco', 'carro', 'avião']\n",
    "max(veiculos)"
   ]
  },
  {
   "cell_type": "code",
   "execution_count": 47,
   "id": "02780a03",
   "metadata": {},
   "outputs": [
    {
     "data": {
      "text/plain": [
       "'arremesso'"
      ]
     },
     "execution_count": 47,
     "metadata": {},
     "output_type": "execute_result"
    }
   ],
   "source": [
    "lista = ['talco', 'arremesso', 'zoo', 'carro', 'pilar']\n",
    "max(lista, key=len)"
   ]
  },
  {
   "cell_type": "markdown",
   "id": "744fc403",
   "metadata": {},
   "source": [
    "### Desempacotamento de listas\n",
    "É uma forma de atribuir os elementos de uma lista a variáveis:"
   ]
  },
  {
   "cell_type": "code",
   "execution_count": 48,
   "id": "605acf20",
   "metadata": {},
   "outputs": [
    {
     "data": {
      "text/plain": [
       "'abc'"
      ]
     },
     "execution_count": 48,
     "metadata": {},
     "output_type": "execute_result"
    }
   ],
   "source": [
    "lista = ['a', 'b', 'c']\n",
    "letra1, letra2, letra3 = lista\n",
    "letra1 + letra2 + letra3"
   ]
  },
  {
   "cell_type": "markdown",
   "id": "3626591a",
   "metadata": {},
   "source": [
    "### Compreensão de listas\n",
    "É uma forma de gerar listas a partir de iterações dinâmicas:"
   ]
  },
  {
   "cell_type": "code",
   "execution_count": 49,
   "id": "4d8a8127",
   "metadata": {},
   "outputs": [
    {
     "data": {
      "text/plain": [
       "[0, 1, 2, 3, 4, 5, 6, 7, 8, 9]"
      ]
     },
     "execution_count": 49,
     "metadata": {},
     "output_type": "execute_result"
    }
   ],
   "source": [
    "lista = [numero for numero in range(10)]  # função range()\n",
    "lista"
   ]
  },
  {
   "cell_type": "code",
   "execution_count": 50,
   "id": "7002ca4b",
   "metadata": {},
   "outputs": [
    {
     "data": {
      "text/plain": [
       "['A', 'E', 'I', 'O', 'U']"
      ]
     },
     "execution_count": 50,
     "metadata": {},
     "output_type": "execute_result"
    }
   ],
   "source": [
    "lista = [vogal.upper() for vogal in 'aeiou']  # string\n",
    "lista"
   ]
  },
  {
   "cell_type": "code",
   "execution_count": 51,
   "id": "6cb67163",
   "metadata": {},
   "outputs": [
    {
     "data": {
      "text/plain": [
       "[2, 4, 6]"
      ]
     },
     "execution_count": 51,
     "metadata": {},
     "output_type": "execute_result"
    }
   ],
   "source": [
    "numeros = [1, 2, 3]\n",
    "dobros = [numero * 2 for numero in numeros]  # lista\n",
    "dobros"
   ]
  },
  {
   "cell_type": "code",
   "execution_count": 52,
   "id": "217be27d",
   "metadata": {},
   "outputs": [
    {
     "data": {
      "text/plain": [
       "['Maria', 'João', 'Pedro', 'Fernando']"
      ]
     },
     "execution_count": 52,
     "metadata": {},
     "output_type": "execute_result"
    }
   ],
   "source": [
    "nomes = ('maria', 'joão', 'pedro', 'fernando')\n",
    "lista = [nome.title() for nome in nomes]  # tupla (aula 08)\n",
    "lista"
   ]
  },
  {
   "cell_type": "code",
   "execution_count": 53,
   "id": "9c10d87c",
   "metadata": {},
   "outputs": [
    {
     "data": {
      "text/plain": [
       "(['A', 'B', 'C', 'D', 'E'], [3, 6, 9, 12, 15])"
      ]
     },
     "execution_count": 53,
     "metadata": {},
     "output_type": "execute_result"
    }
   ],
   "source": [
    "dic = {'a': 1, 'b': 2, 'c': 3, 'd': 4, 'e': 5}\n",
    "letras = [chave.upper() for chave in dic.keys()]  # dicionário (aula 09)\n",
    "triplos = [valor * 3 for valor in dic.values()]\n",
    "letras, triplos"
   ]
  },
  {
   "cell_type": "code",
   "execution_count": 54,
   "id": "aee8d82a",
   "metadata": {},
   "outputs": [
    {
     "data": {
      "text/plain": [
       "[1, 4, 9, 16, 25, 36, 49]"
      ]
     },
     "execution_count": 54,
     "metadata": {},
     "output_type": "execute_result"
    }
   ],
   "source": [
    "numeros = {1, 2, 3, 4, 5, 6, 7}\n",
    "quadrados = [numero ** 2 for numero in numeros]  # conjunto (aula 10)\n",
    "quadrados"
   ]
  },
  {
   "cell_type": "markdown",
   "id": "139a8b42",
   "metadata": {},
   "source": [
    "É possível utilizar estruturas condicionais:"
   ]
  },
  {
   "cell_type": "code",
   "execution_count": 55,
   "id": "470ddc6a",
   "metadata": {},
   "outputs": [
    {
     "data": {
      "text/plain": [
       "[0, 2, 4, 6, 8]"
      ]
     },
     "execution_count": 55,
     "metadata": {},
     "output_type": "execute_result"
    }
   ],
   "source": [
    "pares = [n for n in range(10) if n % 2 == 0]\n",
    "pares"
   ]
  },
  {
   "cell_type": "code",
   "execution_count": 56,
   "id": "b65de2e0",
   "metadata": {},
   "outputs": [
    {
     "data": {
      "text/plain": [
       "[0, 2, 2, 6, 4, 10, 6, 14, 8, 18]"
      ]
     },
     "execution_count": 56,
     "metadata": {},
     "output_type": "execute_result"
    }
   ],
   "source": [
    "pares_dobros = [n if n % 2 == 0 else n * 2 for n in range(10)]\n",
    "pares_dobros"
   ]
  },
  {
   "cell_type": "markdown",
   "id": "3f49eabc",
   "metadata": {},
   "source": [
    "Também é possível iterar dessa forma sobre listas aninhadas:"
   ]
  },
  {
   "cell_type": "code",
   "execution_count": 57,
   "id": "07222107",
   "metadata": {},
   "outputs": [
    {
     "data": {
      "text/plain": [
       "[[2, 4, 6], [8, 10, 12], [14, 16, 18]]"
      ]
     },
     "execution_count": 57,
     "metadata": {},
     "output_type": "execute_result"
    }
   ],
   "source": [
    "sudoku = [[1, 2, 3], [4, 5, 6], [7, 8, 9]]\n",
    "sudoku_dobro = [[valor * 2 for valor in linha] for linha in sudoku]\n",
    "sudoku_dobro"
   ]
  },
  {
   "cell_type": "markdown",
   "id": "cad3d527",
   "metadata": {},
   "source": [
    "### Funções *any()* e *all()*"
   ]
  },
  {
   "cell_type": "markdown",
   "id": "14c3ecac",
   "metadata": {},
   "source": [
    "A função *any()* recebe uma lista como argumento e retorna *True* caso pelo menos um valor dela retorne *True* ao ser convertido para o tipo *bool*:"
   ]
  },
  {
   "cell_type": "code",
   "execution_count": 58,
   "id": "2bf42229",
   "metadata": {},
   "outputs": [
    {
     "data": {
      "text/plain": [
       "True"
      ]
     },
     "execution_count": 58,
     "metadata": {},
     "output_type": "execute_result"
    }
   ],
   "source": [
    "any(['python', 0, False, '', [], 1])"
   ]
  },
  {
   "cell_type": "code",
   "execution_count": 59,
   "id": "4f540d62",
   "metadata": {},
   "outputs": [
    {
     "data": {
      "text/plain": [
       "False"
      ]
     },
     "execution_count": 59,
     "metadata": {},
     "output_type": "execute_result"
    }
   ],
   "source": [
    "any([None, False, [], 0])"
   ]
  },
  {
   "cell_type": "code",
   "execution_count": 60,
   "id": "70383480",
   "metadata": {},
   "outputs": [
    {
     "data": {
      "text/plain": [
       "'alguém zerou a prova'"
      ]
     },
     "execution_count": 60,
     "metadata": {},
     "output_type": "execute_result"
    }
   ],
   "source": [
    "notas_prova = [8, 6, 10, 5, 0, 7, 10, 4]\n",
    "if all(notas_prova):\n",
    "    result = 'ninguém zerou a prova'\n",
    "else:\n",
    "    result = 'alguém zerou a prova'\n",
    "result"
   ]
  },
  {
   "cell_type": "markdown",
   "id": "8c15f76e",
   "metadata": {},
   "source": [
    "A função *all()* recebe uma lista como argumento e retorna *True* caso todos os valores dela retornem *True* ao serem convertidos para o tipo *bool* ou caso a lista seja vazia:"
   ]
  },
  {
   "cell_type": "code",
   "execution_count": 61,
   "id": "3ba860d9",
   "metadata": {},
   "outputs": [
    {
     "data": {
      "text/plain": [
       "False"
      ]
     },
     "execution_count": 61,
     "metadata": {},
     "output_type": "execute_result"
    }
   ],
   "source": [
    "all([1, 4, 9, 2, 3, 0])"
   ]
  },
  {
   "cell_type": "code",
   "execution_count": 62,
   "id": "2cbfc5c4",
   "metadata": {},
   "outputs": [
    {
     "data": {
      "text/plain": [
       "True"
      ]
     },
     "execution_count": 62,
     "metadata": {},
     "output_type": "execute_result"
    }
   ],
   "source": [
    "all([2, 5, 6])"
   ]
  },
  {
   "cell_type": "code",
   "execution_count": 63,
   "id": "fb96ac8d",
   "metadata": {},
   "outputs": [
    {
     "data": {
      "text/plain": [
       "True"
      ]
     },
     "execution_count": 63,
     "metadata": {},
     "output_type": "execute_result"
    }
   ],
   "source": [
    "all([])"
   ]
  },
  {
   "cell_type": "code",
   "execution_count": 64,
   "id": "6ac68646",
   "metadata": {},
   "outputs": [
    {
     "data": {
      "text/plain": [
       "'alguém gabaritou a prova'"
      ]
     },
     "execution_count": 64,
     "metadata": {},
     "output_type": "execute_result"
    }
   ],
   "source": [
    "if any([True for i in notas_prova if i == 10]):\n",
    "    result = 'alguém gabaritou a prova'\n",
    "else:\n",
    "    result = 'ninguém gabaritou a prova'\n",
    "result"
   ]
  },
  {
   "cell_type": "markdown",
   "id": "9aa36037",
   "metadata": {},
   "source": [
    "### Cópia de listas"
   ]
  },
  {
   "cell_type": "markdown",
   "id": "5d437073",
   "metadata": {},
   "source": [
    "Após se copiar uma lista via atribuição (cópia rasa), qualquer ação sobre a cópia afeta a lista original:"
   ]
  },
  {
   "cell_type": "code",
   "execution_count": 65,
   "id": "b7b37b0b",
   "metadata": {},
   "outputs": [
    {
     "data": {
      "text/plain": [
       "([1, 2, 3, 4], [1, 2, 3, 4])"
      ]
     },
     "execution_count": 65,
     "metadata": {},
     "output_type": "execute_result"
    }
   ],
   "source": [
    "lista = [1, 2, 3]\n",
    "copia = lista\n",
    "copia.append(4)\n",
    "lista, copia"
   ]
  },
  {
   "cell_type": "markdown",
   "id": "780c6ca8",
   "metadata": {},
   "source": [
    "Para se ter duas listas independentes (cópia profunda), utiliza-se o método *copy()*:"
   ]
  },
  {
   "cell_type": "code",
   "execution_count": 66,
   "id": "3e39ffe5",
   "metadata": {},
   "outputs": [
    {
     "data": {
      "text/plain": [
       "([1, 2, 3], [1, 2, 3, 4])"
      ]
     },
     "execution_count": 66,
     "metadata": {},
     "output_type": "execute_result"
    }
   ],
   "source": [
    "lista = [1, 2, 3]\n",
    "copia = lista.copy()\n",
    "copia.append(4)\n",
    "lista, copia"
   ]
  },
  {
   "cell_type": "markdown",
   "id": "3d80ce1b",
   "metadata": {},
   "source": [
    "Outra forma de realizar uma cópia profunda é utilizando o fatiamento sem especificar índices:"
   ]
  },
  {
   "cell_type": "code",
   "execution_count": 67,
   "id": "34fc23f7",
   "metadata": {},
   "outputs": [
    {
     "data": {
      "text/plain": [
       "([1, 2, 3], [1, 2, 3, 4])"
      ]
     },
     "execution_count": 67,
     "metadata": {},
     "output_type": "execute_result"
    }
   ],
   "source": [
    "lista = [1, 2, 3]\n",
    "copia = lista[:]\n",
    "copia.append(4)\n",
    "lista, copia"
   ]
  }
 ],
 "metadata": {
  "kernelspec": {
   "display_name": "Python 3 (ipykernel)",
   "language": "python",
   "name": "python3"
  },
  "language_info": {
   "codemirror_mode": {
    "name": "ipython",
    "version": 3
   },
   "file_extension": ".py",
   "mimetype": "text/x-python",
   "name": "python",
   "nbconvert_exporter": "python",
   "pygments_lexer": "ipython3",
   "version": "3.8.10"
  }
 },
 "nbformat": 4,
 "nbformat_minor": 5
}
