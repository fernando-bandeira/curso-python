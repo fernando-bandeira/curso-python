{
 "cells": [
  {
   "cell_type": "markdown",
   "id": "75a4d087",
   "metadata": {},
   "source": [
    "## Dicionários\n",
    "Dicionários são coleções de dados delimitadas por chaves em que cada elemento é composto por uma chave (que exerce o papel de índice) e um valor. As chaves são separadas de seus valores por dois-pontos, e os pares chave/valor são separados uns dos outros por vírgulas."
   ]
  },
  {
   "cell_type": "code",
   "execution_count": 1,
   "id": "fdf7931d",
   "metadata": {},
   "outputs": [],
   "source": [
    "datas_nasc = {'fernando': 1999, 'bernardo': 1989, 'frederico': 1990}"
   ]
  },
  {
   "cell_type": "markdown",
   "id": "41062c46",
   "metadata": {},
   "source": [
    "Também é possível criar dicionários a partir de listas/tuplas que possuam elementos agrupados aos pares, utilizando a função *dict()* da seguinte forma:"
   ]
  },
  {
   "cell_type": "code",
   "execution_count": 2,
   "id": "075d5f9c",
   "metadata": {},
   "outputs": [
    {
     "data": {
      "text/plain": [
       "{'Brasil': 'Brasília', 'França': 'Paris', 'Chile': 'Santiago'}"
      ]
     },
     "execution_count": 2,
     "metadata": {},
     "output_type": "execute_result"
    }
   ],
   "source": [
    "capitais = [('Brasil', 'Brasília'), ['França', 'Paris'], ('Chile', 'Santiago')]\n",
    "dic = dict(capitais)\n",
    "dic"
   ]
  },
  {
   "cell_type": "markdown",
   "id": "6b9dc754",
   "metadata": {},
   "source": [
    "### Acesso, atualização e adição de elementos de um dicionário"
   ]
  },
  {
   "cell_type": "markdown",
   "id": "82572801",
   "metadata": {},
   "source": [
    "As chaves dos dicionários funcionam como os índices de strings, listas e tuplas:"
   ]
  },
  {
   "cell_type": "code",
   "execution_count": 3,
   "id": "a015f6a7",
   "metadata": {},
   "outputs": [
    {
     "data": {
      "text/plain": [
       "'Santiago'"
      ]
     },
     "execution_count": 3,
     "metadata": {},
     "output_type": "execute_result"
    }
   ],
   "source": [
    "dic['Chile']"
   ]
  },
  {
   "cell_type": "markdown",
   "id": "e33ce162",
   "metadata": {},
   "source": [
    "Caso a chave especificada não exista, um erro será retornado:"
   ]
  },
  {
   "cell_type": "code",
   "execution_count": 4,
   "id": "65a65755",
   "metadata": {},
   "outputs": [],
   "source": [
    "# dic['Inglaterra']"
   ]
  },
  {
   "cell_type": "markdown",
   "id": "e283cb40",
   "metadata": {},
   "source": [
    "Outra forma de acessar os elementos de um dicionário é utilizando o método *get()*. Caso a chave não exista, esse método não retorna um erro, e sim *None*:"
   ]
  },
  {
   "cell_type": "code",
   "execution_count": 5,
   "id": "600f2b11",
   "metadata": {},
   "outputs": [
    {
     "data": {
      "text/plain": [
       "'Paris'"
      ]
     },
     "execution_count": 5,
     "metadata": {},
     "output_type": "execute_result"
    }
   ],
   "source": [
    "dic.get('França')"
   ]
  },
  {
   "cell_type": "code",
   "execution_count": 6,
   "id": "9360b2ca",
   "metadata": {},
   "outputs": [],
   "source": [
    "dic.get('Inglaterra')  # retorna None"
   ]
  },
  {
   "cell_type": "markdown",
   "id": "84657850",
   "metadata": {},
   "source": [
    "É possível configurar um retorno específico para caso a chave não exista, da seguinte forma:"
   ]
  },
  {
   "cell_type": "code",
   "execution_count": 7,
   "id": "2601ffe5",
   "metadata": {},
   "outputs": [
    {
     "data": {
      "text/plain": [
       "'País não cadastrado'"
      ]
     },
     "execution_count": 7,
     "metadata": {},
     "output_type": "execute_result"
    }
   ],
   "source": [
    "dic.get('Inglaterra', 'País não cadastrado')"
   ]
  },
  {
   "cell_type": "markdown",
   "id": "f1e8d804",
   "metadata": {},
   "source": [
    "Dicionários são **mutáveis** e, portanto, podem ter seus elementos modificados via atribuição:"
   ]
  },
  {
   "cell_type": "code",
   "execution_count": 8,
   "id": "0e0072f1",
   "metadata": {},
   "outputs": [
    {
     "data": {
      "text/plain": [
       "{'jan': 600, 'fev': 550, 'mar': 400}"
      ]
     },
     "execution_count": 8,
     "metadata": {},
     "output_type": "execute_result"
    }
   ],
   "source": [
    "receitas = {'jan': 500, 'fev': 550, 'mar': 400}\n",
    "receitas['jan'] = 600\n",
    "receitas"
   ]
  },
  {
   "cell_type": "markdown",
   "id": "f8b7233e",
   "metadata": {},
   "source": [
    "Para adicionar um novo elemento em um dicionário, basta realizar atribuição em uma nova chave:"
   ]
  },
  {
   "cell_type": "code",
   "execution_count": 9,
   "id": "c7f39cca",
   "metadata": {},
   "outputs": [
    {
     "data": {
      "text/plain": [
       "{'jan': 600, 'fev': 550, 'mar': 400, 'abr': 430}"
      ]
     },
     "execution_count": 9,
     "metadata": {},
     "output_type": "execute_result"
    }
   ],
   "source": [
    "receitas['abr'] = 430\n",
    "receitas"
   ]
  },
  {
   "cell_type": "markdown",
   "id": "88f8fac5",
   "metadata": {},
   "source": [
    "Com o método *update()* é possível atualizar/adicionar elementos em um dicionário a partir de outro:"
   ]
  },
  {
   "cell_type": "code",
   "execution_count": 10,
   "id": "217db44f",
   "metadata": {},
   "outputs": [
    {
     "data": {
      "text/plain": [
       "{'jan': 600, 'fev': 580, 'mar': 400, 'abr': 430, 'mai': 390, 'jun': 410}"
      ]
     },
     "execution_count": 10,
     "metadata": {},
     "output_type": "execute_result"
    }
   ],
   "source": [
    "novas = {'fev': 580, 'mai': 390, 'jun': 410}\n",
    "receitas.update(novas)\n",
    "receitas"
   ]
  },
  {
   "cell_type": "markdown",
   "id": "15b42e40",
   "metadata": {},
   "source": [
    "### Exclusão de elementos de um dicionário"
   ]
  },
  {
   "cell_type": "markdown",
   "id": "e7cb0544",
   "metadata": {},
   "source": [
    "O método *pop()* exclui um elemento a partir de sua chave, além de retornar o valor desse elemento:"
   ]
  },
  {
   "cell_type": "code",
   "execution_count": 11,
   "id": "c56a9147",
   "metadata": {},
   "outputs": [
    {
     "data": {
      "text/plain": [
       "{1: 2, 2: 4, 3: 6, 5: 10}"
      ]
     },
     "execution_count": 11,
     "metadata": {},
     "output_type": "execute_result"
    }
   ],
   "source": [
    "dobros = {1: 2, 2: 4, 3: 6, 4: 8, 5: 10}\n",
    "dobros.pop(4)\n",
    "dobros"
   ]
  },
  {
   "cell_type": "markdown",
   "id": "096a24d7",
   "metadata": {},
   "source": [
    "A palavra reservada *del* também pode ser utilizada para excluir um elemento:"
   ]
  },
  {
   "cell_type": "code",
   "execution_count": 12,
   "id": "88d3ba77",
   "metadata": {},
   "outputs": [
    {
     "data": {
      "text/plain": [
       "{2: 4, 3: 6, 5: 10}"
      ]
     },
     "execution_count": 12,
     "metadata": {},
     "output_type": "execute_result"
    }
   ],
   "source": [
    "del dobros[1]\n",
    "dobros"
   ]
  },
  {
   "cell_type": "markdown",
   "id": "5f5bda4e",
   "metadata": {},
   "source": [
    "O método *clear()* esvazia completamente um dicionário:"
   ]
  },
  {
   "cell_type": "code",
   "execution_count": 13,
   "id": "fbe1ff28",
   "metadata": {},
   "outputs": [
    {
     "data": {
      "text/plain": [
       "{}"
      ]
     },
     "execution_count": 13,
     "metadata": {},
     "output_type": "execute_result"
    }
   ],
   "source": [
    "dobros.clear()\n",
    "dobros"
   ]
  },
  {
   "cell_type": "markdown",
   "id": "69b8540c",
   "metadata": {},
   "source": [
    "### Condicionais e repetição"
   ]
  },
  {
   "cell_type": "markdown",
   "id": "c9f37cca",
   "metadata": {},
   "source": [
    "É possível verificar se uma chave existe em um dicionário:"
   ]
  },
  {
   "cell_type": "code",
   "execution_count": 14,
   "id": "8dc168ce",
   "metadata": {},
   "outputs": [
    {
     "data": {
      "text/plain": [
       "True"
      ]
     },
     "execution_count": 14,
     "metadata": {},
     "output_type": "execute_result"
    }
   ],
   "source": [
    "quadrados = {1: 1, 2: 4, 3: 9, 4: 16, 5: 25}\n",
    "if 3 in quadrados:\n",
    "    result = True\n",
    "else:\n",
    "    result = False\n",
    "result"
   ]
  },
  {
   "cell_type": "markdown",
   "id": "08e5dd90",
   "metadata": {},
   "source": [
    "Não é possível verificar a existência de valores dessa forma:"
   ]
  },
  {
   "cell_type": "code",
   "execution_count": 15,
   "id": "b58cdbbe",
   "metadata": {},
   "outputs": [
    {
     "data": {
      "text/plain": [
       "False"
      ]
     },
     "execution_count": 15,
     "metadata": {},
     "output_type": "execute_result"
    }
   ],
   "source": [
    "if 9 in quadrados:\n",
    "    result = True\n",
    "else:\n",
    "    result = False\n",
    "result"
   ]
  },
  {
   "cell_type": "markdown",
   "id": "680c925e",
   "metadata": {},
   "source": [
    "Ao se iterar sobre um dicionário, os itens obtidos também são as chaves:"
   ]
  },
  {
   "cell_type": "code",
   "execution_count": 16,
   "id": "fb17870e",
   "metadata": {},
   "outputs": [
    {
     "name": "stdout",
     "output_type": "stream",
     "text": [
      "1^2 = 1\n",
      "2^2 = 4\n",
      "3^2 = 9\n",
      "4^2 = 16\n",
      "5^2 = 25\n"
     ]
    }
   ],
   "source": [
    "for num in quadrados:\n",
    "    print(f'{num}^2 = {quadrados[num]}')"
   ]
  },
  {
   "cell_type": "markdown",
   "id": "824efdd2",
   "metadata": {},
   "source": [
    "Entretanto, a forma mais correta de verificar existência de chaves/valores em dicionários e iterar sobre eles é utilizando os métodos *keys()*, *values()* e *items()*."
   ]
  },
  {
   "cell_type": "markdown",
   "id": "fde834fc",
   "metadata": {},
   "source": [
    "O método *keys()* retorna um iterável contendo todas as chaves do dicionário:"
   ]
  },
  {
   "cell_type": "code",
   "execution_count": 17,
   "id": "fe46ef1e",
   "metadata": {},
   "outputs": [
    {
     "data": {
      "text/plain": [
       "True"
      ]
     },
     "execution_count": 17,
     "metadata": {},
     "output_type": "execute_result"
    }
   ],
   "source": [
    "if 3 in quadrados.keys():\n",
    "    result = True\n",
    "else:\n",
    "    result = False\n",
    "result"
   ]
  },
  {
   "cell_type": "code",
   "execution_count": 18,
   "id": "e0454073",
   "metadata": {},
   "outputs": [
    {
     "name": "stdout",
     "output_type": "stream",
     "text": [
      "1 2 3 4 5 "
     ]
    }
   ],
   "source": [
    "for chave in quadrados.keys():\n",
    "    print(chave, end=' ')"
   ]
  },
  {
   "cell_type": "markdown",
   "id": "3b3b6c40",
   "metadata": {},
   "source": [
    "O método *values()* retorna um iterável contendo todos os valores do dicionário:"
   ]
  },
  {
   "cell_type": "code",
   "execution_count": 19,
   "id": "788eb769",
   "metadata": {},
   "outputs": [
    {
     "data": {
      "text/plain": [
       "True"
      ]
     },
     "execution_count": 19,
     "metadata": {},
     "output_type": "execute_result"
    }
   ],
   "source": [
    "if 9 in quadrados.values():\n",
    "    result = True\n",
    "else:\n",
    "    result = False\n",
    "result"
   ]
  },
  {
   "cell_type": "code",
   "execution_count": 20,
   "id": "1750b469",
   "metadata": {},
   "outputs": [
    {
     "name": "stdout",
     "output_type": "stream",
     "text": [
      "1 4 9 16 25 "
     ]
    }
   ],
   "source": [
    "for valor in quadrados.values():\n",
    "    print(valor, end=' ')"
   ]
  },
  {
   "cell_type": "markdown",
   "id": "f6ce6ba6",
   "metadata": {},
   "source": [
    "O método *items()* retorna um iterável composto por tuplas, cada uma contendo uma chave e seu respectivo valor:"
   ]
  },
  {
   "cell_type": "code",
   "execution_count": 21,
   "id": "32afaef9",
   "metadata": {},
   "outputs": [
    {
     "name": "stdout",
     "output_type": "stream",
     "text": [
      "1^2 = 1\n",
      "2^2 = 4\n",
      "3^2 = 9\n",
      "4^2 = 16\n",
      "5^2 = 25\n"
     ]
    }
   ],
   "source": [
    "for chave, valor in quadrados.items():\n",
    "    print(f'{chave}^2 = {valor}')"
   ]
  },
  {
   "cell_type": "markdown",
   "id": "95062f05",
   "metadata": {},
   "source": [
    "### Comprimento, somatório e valores máximo e mínimo de um dicionário"
   ]
  },
  {
   "cell_type": "markdown",
   "id": "d9b88cd9",
   "metadata": {},
   "source": [
    "As funções *len()*, *sum()*, *max()* e *min()*, vistas anteriormente, podem ser utilizadas sobre os iteráveis retornados pelos métodos *keys()* e *values()* da mesma forma que nos iteráveis estudados anteriormente:"
   ]
  },
  {
   "cell_type": "code",
   "execution_count": 22,
   "id": "67f1c2f6",
   "metadata": {},
   "outputs": [
    {
     "data": {
      "text/plain": [
       "1400"
      ]
     },
     "execution_count": 22,
     "metadata": {},
     "output_type": "execute_result"
    }
   ],
   "source": [
    "dic = {'a': 100, 'b': 400, 'c': 900}\n",
    "sum(dic.values())"
   ]
  },
  {
   "cell_type": "code",
   "execution_count": 23,
   "id": "da69d3a0",
   "metadata": {},
   "outputs": [
    {
     "data": {
      "text/plain": [
       "900"
      ]
     },
     "execution_count": 23,
     "metadata": {},
     "output_type": "execute_result"
    }
   ],
   "source": [
    "max(dic.values())"
   ]
  },
  {
   "cell_type": "code",
   "execution_count": 24,
   "id": "40520bda",
   "metadata": {},
   "outputs": [
    {
     "data": {
      "text/plain": [
       "'a'"
      ]
     },
     "execution_count": 24,
     "metadata": {},
     "output_type": "execute_result"
    }
   ],
   "source": [
    "min(dic.keys())"
   ]
  },
  {
   "cell_type": "code",
   "execution_count": 25,
   "id": "9a2b7670",
   "metadata": {},
   "outputs": [
    {
     "data": {
      "text/plain": [
       "3"
      ]
     },
     "execution_count": 25,
     "metadata": {},
     "output_type": "execute_result"
    }
   ],
   "source": [
    "len(dic)"
   ]
  },
  {
   "cell_type": "markdown",
   "id": "5f0ec677",
   "metadata": {},
   "source": [
    "### Compreensão de dicionários\n",
    "É uma forma de gerar dicionários a partir de iterações dinâmicas:"
   ]
  },
  {
   "cell_type": "code",
   "execution_count": 26,
   "id": "c2269813",
   "metadata": {},
   "outputs": [
    {
     "data": {
      "text/plain": [
       "{'A': 3, 'B': 6, 'C': 9, 'D': 12, 'E': 15}"
      ]
     },
     "execution_count": 26,
     "metadata": {},
     "output_type": "execute_result"
    }
   ],
   "source": [
    "numeros = {'a': 1, 'b': 2, 'c': 3, 'd': 4, 'e': 5}\n",
    "triplos = {chave.upper(): valor * 3 for chave, valor in numeros.items()}\n",
    "triplos"
   ]
  },
  {
   "cell_type": "code",
   "execution_count": 27,
   "id": "0547b2d5",
   "metadata": {},
   "outputs": [
    {
     "data": {
      "text/plain": [
       "{1: 2, 3: 6, 5: 10, 7: 14, 9: 18}"
      ]
     },
     "execution_count": 27,
     "metadata": {},
     "output_type": "execute_result"
    }
   ],
   "source": [
    "impares = [1, 3, 5, 7, 9]\n",
    "dobros = {numero: numero * 2 for numero in impares}\n",
    "dobros"
   ]
  },
  {
   "cell_type": "code",
   "execution_count": 28,
   "id": "e189edf2",
   "metadata": {},
   "outputs": [
    {
     "data": {
      "text/plain": [
       "{'i': 3, 'n': 3, 'c': 2, 'o': 2, 's': 1, 't': 2, 'u': 1, 'a': 1, 'l': 1}"
      ]
     },
     "execution_count": 28,
     "metadata": {},
     "output_type": "execute_result"
    }
   ],
   "source": [
    "palavra = 'inconstitucional'\n",
    "qtd_letras = {letra: palavra.count(letra) for letra in palavra}\n",
    "qtd_letras"
   ]
  },
  {
   "cell_type": "code",
   "execution_count": 29,
   "id": "793941d6",
   "metadata": {},
   "outputs": [
    {
     "data": {
      "text/plain": [
       "{8: 'par', 11: 'impar', 45: 'impar', 78: 'par', 18: 'par', 59: 'impar'}"
      ]
     },
     "execution_count": 29,
     "metadata": {},
     "output_type": "execute_result"
    }
   ],
   "source": [
    "numeros = {45, 78, 8, 11, 59, 18}  # conjunto (aula 10)\n",
    "classif = {n: ('par' if n % 2 == 0 else 'impar') for n in numeros}\n",
    "classif"
   ]
  },
  {
   "cell_type": "markdown",
   "id": "f4b7f093",
   "metadata": {},
   "source": [
    "### Cópia de dicionários"
   ]
  },
  {
   "cell_type": "markdown",
   "id": "b9b32774",
   "metadata": {},
   "source": [
    "Após se copiar um dicionário via atribuição (cópia rasa), qualquer ação sobre a cópia afeta o dicionário original:"
   ]
  },
  {
   "cell_type": "code",
   "execution_count": 30,
   "id": "0e51fcaf",
   "metadata": {},
   "outputs": [
    {
     "data": {
      "text/plain": [
       "({'a': 1, 'b': 2, 'c': 3, 'd': 4}, {'a': 1, 'b': 2, 'c': 3, 'd': 4})"
      ]
     },
     "execution_count": 30,
     "metadata": {},
     "output_type": "execute_result"
    }
   ],
   "source": [
    "dic = {'a': 1, 'b': 2, 'c': 3}\n",
    "copia = dic\n",
    "copia['d'] = 4\n",
    "dic, copia"
   ]
  },
  {
   "cell_type": "markdown",
   "id": "de323a28",
   "metadata": {},
   "source": [
    "Para se ter dois dicionários independentes (cópia profunda), utiliza-se o método *copy()*:"
   ]
  },
  {
   "cell_type": "code",
   "execution_count": 31,
   "id": "d8ad2a70",
   "metadata": {},
   "outputs": [
    {
     "data": {
      "text/plain": [
       "({'a': 1, 'b': 2, 'c': 3}, {'a': 1, 'b': 2, 'c': 3, 'd': 4})"
      ]
     },
     "execution_count": 31,
     "metadata": {},
     "output_type": "execute_result"
    }
   ],
   "source": [
    "dic = {'a': 1, 'b': 2, 'c': 3}\n",
    "copia = dic.copy()\n",
    "copia['d'] = 4\n",
    "dic, copia"
   ]
  }
 ],
 "metadata": {
  "kernelspec": {
   "display_name": "Python 3 (ipykernel)",
   "language": "python",
   "name": "python3"
  },
  "language_info": {
   "codemirror_mode": {
    "name": "ipython",
    "version": 3
   },
   "file_extension": ".py",
   "mimetype": "text/x-python",
   "name": "python",
   "nbconvert_exporter": "python",
   "pygments_lexer": "ipython3",
   "version": "3.8.10"
  }
 },
 "nbformat": 4,
 "nbformat_minor": 5
}
