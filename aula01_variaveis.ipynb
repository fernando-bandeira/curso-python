{
 "cells": [
  {
   "cell_type": "markdown",
   "metadata": {},
   "source": [
    "## Variáveis\n",
    "Uma variável representa um espaço da memória do computador que irá armazenar um dado. Para atribuir um valor a uma variável, utiliza-se o sinal de igual.\n",
    "\n",
    "Para nome de variáveis, são aceitos apenas letras, números e '\\_', sem acentuação, hífens ou outros caracteres especiais. O nome de uma variável também não pode iniciar por um número.\n",
    "\n",
    "Por convenção, nomes de variáveis devem possuir apenas letras minúsculas e números, com '\\_' separando palavras."
   ]
  },
  {
   "cell_type": "markdown",
   "metadata": {},
   "source": [
    "### Tipos básicos de dados:\n",
    "Dentre os tipos de dados da linguagem *Python*, destacam-se três: *int*, *float* e *str*"
   ]
  },
  {
   "cell_type": "markdown",
   "metadata": {},
   "source": [
    "#### Tipo *int*:\n",
    "Esse tipo representa os números inteiros, ou seja, os números sem parte fracionária."
   ]
  },
  {
   "cell_type": "code",
   "execution_count": 1,
   "metadata": {},
   "outputs": [],
   "source": [
    "idade = 21"
   ]
  },
  {
   "cell_type": "markdown",
   "metadata": {},
   "source": [
    "#### Tipo *float*:\n",
    "Esse tipo representa os números reais, ou seja, números que podem possuir parte fracionária. Números inteiros também podem ser desse tipo, desde que tenham o '.' como separador."
   ]
  },
  {
   "cell_type": "code",
   "execution_count": 2,
   "metadata": {},
   "outputs": [],
   "source": [
    "altura = 1.81\n",
    "idade = 21.0"
   ]
  },
  {
   "cell_type": "markdown",
   "metadata": {},
   "source": [
    "#### Tipo *str*:\n",
    "Esse tipo representa as strings, ou sejam, cadeias de caracteres como textos, palavras, números, sempre contidos entre aspas."
   ]
  },
  {
   "cell_type": "code",
   "execution_count": 3,
   "metadata": {},
   "outputs": [],
   "source": [
    "nome = 'Fernando'\n",
    "sexo = \"masculino\""
   ]
  },
  {
   "cell_type": "markdown",
   "metadata": {},
   "source": [
    "É possível realizar múltipla atribuição de variáveis:"
   ]
  },
  {
   "cell_type": "code",
   "execution_count": 4,
   "metadata": {},
   "outputs": [],
   "source": [
    "nome, idade, altura = 'Fernando', 21, 1.81"
   ]
  },
  {
   "cell_type": "markdown",
   "metadata": {},
   "source": [
    "### Entrada e saída de dados:\n",
    "Para exibir algo na tela, utiliza-se a função *print()*:"
   ]
  },
  {
   "cell_type": "code",
   "execution_count": 5,
   "metadata": {},
   "outputs": [
    {
     "name": "stdout",
     "output_type": "stream",
     "text": [
      "Fernando\n"
     ]
    }
   ],
   "source": [
    "print(nome)"
   ]
  },
  {
   "cell_type": "markdown",
   "metadata": {},
   "source": [
    "Para receber dados do usuário, utiliza-se a função *input()*:"
   ]
  },
  {
   "cell_type": "code",
   "execution_count": 6,
   "metadata": {},
   "outputs": [
    {
     "name": "stdout",
     "output_type": "stream",
     "text": [
      "Qual o seu nome? Fernando\n"
     ]
    }
   ],
   "source": [
    "seu_nome = input('Qual o seu nome? ')"
   ]
  },
  {
   "cell_type": "markdown",
   "metadata": {},
   "source": [
    "Independentemente do que o usuário digite, qualquer dado que entre no programa pela função *input()* é, por padrão, um dado do tipo *str*."
   ]
  },
  {
   "cell_type": "markdown",
   "metadata": {},
   "source": [
    "A função *type()* retorna o tipo de um determinado dado:"
   ]
  },
  {
   "cell_type": "code",
   "execution_count": 7,
   "metadata": {},
   "outputs": [
    {
     "data": {
      "text/plain": [
       "str"
      ]
     },
     "execution_count": 7,
     "metadata": {},
     "output_type": "execute_result"
    }
   ],
   "source": [
    "type(nome)"
   ]
  },
  {
   "cell_type": "markdown",
   "metadata": {},
   "source": [
    "Para concatenar (unir) dados, a melhor forma é utilizando as *f-strings*, da seguinte forma:"
   ]
  },
  {
   "cell_type": "code",
   "execution_count": 8,
   "metadata": {},
   "outputs": [
    {
     "name": "stdout",
     "output_type": "stream",
     "text": [
      "Olá, Fernando, você tem 21 anos!\n"
     ]
    }
   ],
   "source": [
    "print(f'Olá, {nome}, você tem {idade} anos!')"
   ]
  }
 ],
 "metadata": {
  "kernelspec": {
   "display_name": "Python 3 (ipykernel)",
   "language": "python",
   "name": "python3"
  },
  "language_info": {
   "codemirror_mode": {
    "name": "ipython",
    "version": 3
   },
   "file_extension": ".py",
   "mimetype": "text/x-python",
   "name": "python",
   "nbconvert_exporter": "python",
   "pygments_lexer": "ipython3",
   "version": "3.8.10"
  },
  "metadata": {
   "interpreter": {
    "hash": "cbcdeb0319826df783d3b1f8fc5b8ec150f1276cd952aed196999307aabf1ebd"
   }
  }
 },
 "nbformat": 4,
 "nbformat_minor": 2
}
