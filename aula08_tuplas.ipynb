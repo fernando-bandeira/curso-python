{
 "cells": [
  {
   "cell_type": "markdown",
   "id": "49bfd686",
   "metadata": {},
   "source": [
    "## Tuplas\n",
    "São coleções de dados separados por vírgulas, normalmente dentro de parênteses. Seus dados podem ser de diversos tipos."
   ]
  },
  {
   "cell_type": "code",
   "execution_count": 1,
   "id": "e74b2a6b",
   "metadata": {},
   "outputs": [],
   "source": [
    "vogais = 'a', 'b', 'c'\n",
    "impares = (1, 3, 5, 7, 9)"
   ]
  },
  {
   "cell_type": "markdown",
   "id": "5980a103",
   "metadata": {},
   "source": [
    "Apesar de ser uma boa prática, a presença de parênteses não necessariamente define uma tupla. A presença de vírgula é que normalmente faz isso:"
   ]
  },
  {
   "cell_type": "code",
   "execution_count": 2,
   "id": "fcd40d88",
   "metadata": {},
   "outputs": [
    {
     "data": {
      "text/plain": [
       "(list, int, tuple, tuple, tuple)"
      ]
     },
     "execution_count": 2,
     "metadata": {},
     "output_type": "execute_result"
    }
   ],
   "source": [
    "x = [2]\n",
    "y = (2)  # número inteiro\n",
    "z = (2,)\n",
    "w = 2,\n",
    "r = ()\n",
    "type(x), type(y), type(z), type(w), type(r)"
   ]
  },
  {
   "cell_type": "markdown",
   "id": "b0151287",
   "metadata": {},
   "source": [
    "Assim como as strings, as tuplas são tipos de dados **imutáveis** e, portanto, não é possível alterá-las."
   ]
  },
  {
   "cell_type": "markdown",
   "id": "417219c5",
   "metadata": {},
   "source": [
    "### Conversões em tuplas"
   ]
  },
  {
   "cell_type": "markdown",
   "id": "6575c140",
   "metadata": {},
   "source": [
    "A função *tuple()* converte outros iteráveis em tuplas:"
   ]
  },
  {
   "cell_type": "code",
   "execution_count": 3,
   "id": "5f5ca09a",
   "metadata": {},
   "outputs": [
    {
     "data": {
      "text/plain": [
       "('f', 'e', 'r', 'n', 'a', 'n', 'd', 'o')"
      ]
     },
     "execution_count": 3,
     "metadata": {},
     "output_type": "execute_result"
    }
   ],
   "source": [
    "tuple('fernando')"
   ]
  },
  {
   "cell_type": "code",
   "execution_count": 4,
   "id": "6b1755a7",
   "metadata": {},
   "outputs": [
    {
     "data": {
      "text/plain": [
       "(1, 2, 3, 4)"
      ]
     },
     "execution_count": 4,
     "metadata": {},
     "output_type": "execute_result"
    }
   ],
   "source": [
    "tuple(range(1, 5))"
   ]
  },
  {
   "cell_type": "code",
   "execution_count": 5,
   "id": "5a35af7c",
   "metadata": {},
   "outputs": [
    {
     "data": {
      "text/plain": [
       "(1, 3, 5, 7, 9)"
      ]
     },
     "execution_count": 5,
     "metadata": {},
     "output_type": "execute_result"
    }
   ],
   "source": [
    "tuple([1, 3, 5, 7, 9])"
   ]
  },
  {
   "cell_type": "markdown",
   "id": "5922050d",
   "metadata": {},
   "source": [
    "### Acesso a elementos de uma tupla"
   ]
  },
  {
   "cell_type": "markdown",
   "id": "de3f418e",
   "metadata": {},
   "source": [
    "Para acessar elementos de uma tupla, o processo é idêntico ao realizado em strings e listas, utilizando índices que se iniciam por 0 (zero):"
   ]
  },
  {
   "cell_type": "code",
   "execution_count": 6,
   "id": "0f09a1eb",
   "metadata": {},
   "outputs": [
    {
     "data": {
      "text/plain": [
       "'MG'"
      ]
     },
     "execution_count": 6,
     "metadata": {},
     "output_type": "execute_result"
    }
   ],
   "source": [
    "estados = ('RJ', 'SP', 'MG', 'ES', 'PR', 'SC', 'RS')\n",
    "estados[2]"
   ]
  },
  {
   "cell_type": "code",
   "execution_count": 7,
   "id": "5ddd5a15",
   "metadata": {},
   "outputs": [
    {
     "data": {
      "text/plain": [
       "'PR'"
      ]
     },
     "execution_count": 7,
     "metadata": {},
     "output_type": "execute_result"
    }
   ],
   "source": [
    "estados[-3]"
   ]
  },
  {
   "cell_type": "code",
   "execution_count": 8,
   "id": "c98264a3",
   "metadata": {},
   "outputs": [
    {
     "data": {
      "text/plain": [
       "('SP', 'MG', 'ES', 'PR')"
      ]
     },
     "execution_count": 8,
     "metadata": {},
     "output_type": "execute_result"
    }
   ],
   "source": [
    "estados[1:5]"
   ]
  },
  {
   "cell_type": "markdown",
   "id": "ad9d27b4",
   "metadata": {},
   "source": [
    "Assim como as strings, as tuplas são tipos de dados **imutáveis**, e, portanto, não é possível alterar um elemento de uma tupla via atribuição."
   ]
  },
  {
   "cell_type": "code",
   "execution_count": 9,
   "id": "f07db864",
   "metadata": {},
   "outputs": [],
   "source": [
    "# estados[3] = 'AM'"
   ]
  },
  {
   "cell_type": "markdown",
   "id": "67e63481",
   "metadata": {},
   "source": [
    "### Condicionais e repetição"
   ]
  },
  {
   "cell_type": "markdown",
   "id": "8947e424",
   "metadata": {},
   "source": [
    "Tuplas suportam estruturas condicionais e de repetição da mesma forma que listas e strings:"
   ]
  },
  {
   "cell_type": "code",
   "execution_count": 10,
   "id": "21b0c162",
   "metadata": {},
   "outputs": [
    {
     "data": {
      "text/plain": [
       "False"
      ]
     },
     "execution_count": 10,
     "metadata": {},
     "output_type": "execute_result"
    }
   ],
   "source": [
    "vogais = tuple('AEIOU')\n",
    "if 'F' in vogais:\n",
    "    result = True\n",
    "else:\n",
    "    result = False\n",
    "result"
   ]
  },
  {
   "cell_type": "markdown",
   "id": "83799a7f",
   "metadata": {},
   "source": [
    "A função *enumerate()* retorna um objeto iterável contendo tuplas para cada elemento de um iterável. Cada tupla contém o elemento do iterável inicial e seu índice:"
   ]
  },
  {
   "cell_type": "code",
   "execution_count": 11,
   "id": "05d617b8",
   "metadata": {},
   "outputs": [
    {
     "data": {
      "text/plain": [
       "[(0, 'bernardo'), (1, 'frederico'), (2, 'fernando')]"
      ]
     },
     "execution_count": 11,
     "metadata": {},
     "output_type": "execute_result"
    }
   ],
   "source": [
    "nomes = ['bernardo', 'frederico', 'fernando']\n",
    "list(enumerate(nomes))"
   ]
  },
  {
   "cell_type": "code",
   "execution_count": 12,
   "id": "428991a2",
   "metadata": {},
   "outputs": [
    {
     "name": "stdout",
     "output_type": "stream",
     "text": [
      "a-e-i-o-u\n"
     ]
    }
   ],
   "source": [
    "for i, v in enumerate(vogais):\n",
    "    if i != len(vogais) - 1:\n",
    "        print(v.lower(), end='-')\n",
    "    else:\n",
    "        print(v.lower())"
   ]
  },
  {
   "cell_type": "markdown",
   "id": "f0b3546a",
   "metadata": {},
   "source": [
    "### Contagem de elementos"
   ]
  },
  {
   "cell_type": "markdown",
   "id": "748a354e",
   "metadata": {},
   "source": [
    "Assim como nas listas, o método *count()* retorna o número de ocorrências de um elemento em uma tupla:"
   ]
  },
  {
   "cell_type": "code",
   "execution_count": 13,
   "id": "29cb3eb7",
   "metadata": {},
   "outputs": [
    {
     "data": {
      "text/plain": [
       "2"
      ]
     },
     "execution_count": 13,
     "metadata": {},
     "output_type": "execute_result"
    }
   ],
   "source": [
    "nome = tuple('fernando')\n",
    "nome.count('n')"
   ]
  },
  {
   "cell_type": "markdown",
   "id": "4c70525f",
   "metadata": {},
   "source": [
    "### Obter índice de um elemento"
   ]
  },
  {
   "cell_type": "markdown",
   "id": "aee25782",
   "metadata": {},
   "source": [
    "Assim como nas listas, o método *index()* retorna o índice da primera ocorrência de um elemento em uma tupla:"
   ]
  },
  {
   "cell_type": "code",
   "execution_count": 14,
   "id": "6359eebe",
   "metadata": {},
   "outputs": [
    {
     "data": {
      "text/plain": [
       "1"
      ]
     },
     "execution_count": 14,
     "metadata": {},
     "output_type": "execute_result"
    }
   ],
   "source": [
    "sobrenome = tuple('bandeira')\n",
    "sobrenome.index('a')"
   ]
  },
  {
   "cell_type": "code",
   "execution_count": 15,
   "id": "a4c4f010",
   "metadata": {},
   "outputs": [
    {
     "data": {
      "text/plain": [
       "7"
      ]
     },
     "execution_count": 15,
     "metadata": {},
     "output_type": "execute_result"
    }
   ],
   "source": [
    "sobrenome.index('a', 2)"
   ]
  },
  {
   "cell_type": "markdown",
   "id": "34620822",
   "metadata": {},
   "source": [
    "### Comprimento, somatório e valores máximo e mínimo de uma lista"
   ]
  },
  {
   "cell_type": "markdown",
   "id": "744e3a84",
   "metadata": {},
   "source": [
    "As funções *len()*, *sum()*, *max()*, *min()* funcionam com tuplas da mesma forma que em listas:"
   ]
  },
  {
   "cell_type": "code",
   "execution_count": 16,
   "id": "144782c0",
   "metadata": {},
   "outputs": [
    {
     "data": {
      "text/plain": [
       "4"
      ]
     },
     "execution_count": 16,
     "metadata": {},
     "output_type": "execute_result"
    }
   ],
   "source": [
    "tupla = 3, 4, 5, 6\n",
    "len(tupla)"
   ]
  },
  {
   "cell_type": "code",
   "execution_count": 17,
   "id": "1c5723d7",
   "metadata": {},
   "outputs": [
    {
     "data": {
      "text/plain": [
       "18"
      ]
     },
     "execution_count": 17,
     "metadata": {},
     "output_type": "execute_result"
    }
   ],
   "source": [
    "sum(tupla)"
   ]
  },
  {
   "cell_type": "code",
   "execution_count": 18,
   "id": "6e5bf2d2",
   "metadata": {},
   "outputs": [
    {
     "data": {
      "text/plain": [
       "6"
      ]
     },
     "execution_count": 18,
     "metadata": {},
     "output_type": "execute_result"
    }
   ],
   "source": [
    "max(tupla)"
   ]
  },
  {
   "cell_type": "code",
   "execution_count": 19,
   "id": "16aa7708",
   "metadata": {},
   "outputs": [
    {
     "data": {
      "text/plain": [
       "3"
      ]
     },
     "execution_count": 19,
     "metadata": {},
     "output_type": "execute_result"
    }
   ],
   "source": [
    "min(tupla)"
   ]
  },
  {
   "cell_type": "markdown",
   "id": "7fe70685",
   "metadata": {},
   "source": [
    "### Função *sorted()*"
   ]
  },
  {
   "cell_type": "markdown",
   "id": "33fd1387",
   "metadata": {},
   "source": [
    "A função *sorted()* retorna uma lista ordenada contendo os elementos de uma tupla:"
   ]
  },
  {
   "cell_type": "code",
   "execution_count": 20,
   "id": "006ad3bb",
   "metadata": {},
   "outputs": [
    {
     "data": {
      "text/plain": [
       "([0, 4, 5, 7, 10, 29, 39, 53], list)"
      ]
     },
     "execution_count": 20,
     "metadata": {},
     "output_type": "execute_result"
    }
   ],
   "source": [
    "tupla = 4, 53, 5, 29, 7, 39, 0, 10\n",
    "x = sorted(tupla)\n",
    "x, type(x)"
   ]
  },
  {
   "cell_type": "markdown",
   "id": "229db76d",
   "metadata": {},
   "source": [
    "### Operações com tuplas"
   ]
  },
  {
   "cell_type": "markdown",
   "id": "08b5a9b4",
   "metadata": {},
   "source": [
    "Os operadores de soma e multiplicação funcionam nas tuplas da mesma forma que nas listas:"
   ]
  },
  {
   "cell_type": "code",
   "execution_count": 21,
   "id": "72a3e9d5",
   "metadata": {},
   "outputs": [
    {
     "data": {
      "text/plain": [
       "(1, 2, 3, 4, 5, 6)"
      ]
     },
     "execution_count": 21,
     "metadata": {},
     "output_type": "execute_result"
    }
   ],
   "source": [
    "tupla1 = 1, 2, 3\n",
    "tupla2 = (4, 5, 6)\n",
    "tupla1 += tupla2\n",
    "tupla1"
   ]
  },
  {
   "cell_type": "code",
   "execution_count": 22,
   "id": "ef794ab5",
   "metadata": {},
   "outputs": [
    {
     "data": {
      "text/plain": [
       "(4, 5, 6, 4, 5, 6, 4, 5, 6)"
      ]
     },
     "execution_count": 22,
     "metadata": {},
     "output_type": "execute_result"
    }
   ],
   "source": [
    "tupla3 = tupla2 * 3\n",
    "tupla3"
   ]
  },
  {
   "cell_type": "markdown",
   "id": "c6b63388",
   "metadata": {},
   "source": [
    "### Desempacotamento de tuplas"
   ]
  },
  {
   "cell_type": "markdown",
   "id": "a513dda1",
   "metadata": {},
   "source": [
    "Similar ao desempacotamento de listas, é nada mais do que a múltipla atribuição de variáveis apresentada na primeira aula:"
   ]
  },
  {
   "cell_type": "code",
   "execution_count": 23,
   "id": "150fd678",
   "metadata": {},
   "outputs": [
    {
     "data": {
      "text/plain": [
       "'abc'"
      ]
     },
     "execution_count": 23,
     "metadata": {},
     "output_type": "execute_result"
    }
   ],
   "source": [
    "tupla = 'a', 'b', 'c'\n",
    "letra1, letra2, letra3 = tupla\n",
    "letra1 + letra2 + letra3"
   ]
  },
  {
   "cell_type": "markdown",
   "id": "f0b42c66",
   "metadata": {},
   "source": [
    "### Funções *any()* e *all()*"
   ]
  },
  {
   "cell_type": "markdown",
   "id": "0c026733",
   "metadata": {},
   "source": [
    "Funcionam nas tuplas da mesma forma que nas listas:"
   ]
  },
  {
   "cell_type": "code",
   "execution_count": 24,
   "id": "d3437a19",
   "metadata": {},
   "outputs": [
    {
     "data": {
      "text/plain": [
       "True"
      ]
     },
     "execution_count": 24,
     "metadata": {},
     "output_type": "execute_result"
    }
   ],
   "source": [
    "any(('python', 0, False, '', [], 1))"
   ]
  },
  {
   "cell_type": "code",
   "execution_count": 25,
   "id": "dc998950",
   "metadata": {},
   "outputs": [
    {
     "data": {
      "text/plain": [
       "False"
      ]
     },
     "execution_count": 25,
     "metadata": {},
     "output_type": "execute_result"
    }
   ],
   "source": [
    "any((None, False, 0))"
   ]
  },
  {
   "cell_type": "code",
   "execution_count": 26,
   "id": "6217f18b",
   "metadata": {},
   "outputs": [
    {
     "data": {
      "text/plain": [
       "False"
      ]
     },
     "execution_count": 26,
     "metadata": {},
     "output_type": "execute_result"
    }
   ],
   "source": [
    "all((1, 4, 9, 2, 3, 0))"
   ]
  },
  {
   "cell_type": "code",
   "execution_count": 27,
   "id": "f170a6ca",
   "metadata": {},
   "outputs": [
    {
     "data": {
      "text/plain": [
       "True"
      ]
     },
     "execution_count": 27,
     "metadata": {},
     "output_type": "execute_result"
    }
   ],
   "source": [
    "all((2, 5, 6))"
   ]
  },
  {
   "cell_type": "code",
   "execution_count": 28,
   "id": "932895d0",
   "metadata": {},
   "outputs": [
    {
     "data": {
      "text/plain": [
       "True"
      ]
     },
     "execution_count": 28,
     "metadata": {},
     "output_type": "execute_result"
    }
   ],
   "source": [
    "tupla = ()\n",
    "all(tupla)"
   ]
  },
  {
   "cell_type": "markdown",
   "id": "e1989399",
   "metadata": {},
   "source": [
    "### Cópia de tuplas"
   ]
  },
  {
   "cell_type": "markdown",
   "id": "1f3c871f",
   "metadata": {},
   "source": [
    "Não ocorre cópia rasa em tuplas:"
   ]
  },
  {
   "cell_type": "code",
   "execution_count": 29,
   "id": "f9c22517",
   "metadata": {},
   "outputs": [
    {
     "data": {
      "text/plain": [
       "((1, 2, 3), (1, 2, 3, 4, 5, 6))"
      ]
     },
     "execution_count": 29,
     "metadata": {},
     "output_type": "execute_result"
    }
   ],
   "source": [
    "tupla = (1, 2, 3)\n",
    "copia = tupla\n",
    "copia += (4, 5, 6)\n",
    "tupla, copia"
   ]
  },
  {
   "cell_type": "markdown",
   "id": "55927ee4",
   "metadata": {},
   "source": [
    "### Listas vs. tuplas"
   ]
  },
  {
   "cell_type": "markdown",
   "id": "1d09fb46",
   "metadata": {},
   "source": [
    "Por oferecerem melhor performance e segurança, as tuplas devem ser utilizadas sempre que se tiver o objetivo de guardar dados de forma constante, sem intenção de modificar esse grupo de dados durante a execução do programa."
   ]
  }
 ],
 "metadata": {
  "kernelspec": {
   "display_name": "Python 3 (ipykernel)",
   "language": "python",
   "name": "python3"
  },
  "language_info": {
   "codemirror_mode": {
    "name": "ipython",
    "version": 3
   },
   "file_extension": ".py",
   "mimetype": "text/x-python",
   "name": "python",
   "nbconvert_exporter": "python",
   "pygments_lexer": "ipython3",
   "version": "3.8.10"
  }
 },
 "nbformat": 4,
 "nbformat_minor": 5
}
